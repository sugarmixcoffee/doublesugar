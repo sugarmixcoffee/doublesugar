{
 "cells": [
  {
   "cell_type": "code",
   "execution_count": 1,
   "id": "8be1a7ef",
   "metadata": {
    "id": "8be1a7ef"
   },
   "outputs": [],
   "source": [
    "import numpy as np\n",
    "import pandas as pd\n",
    "import matplotlib.pyplot as plt\n",
    "import seaborn as sns\n",
    "\n",
    "from sklearn.model_selection import train_test_split\n",
    "\n",
    "from sklearn.metrics import roc_auc_score, confusion_matrix, f1_score, recall_score, precision_score, accuracy_score\n",
    "\n",
    "from sklearn.preprocessing import StandardScaler\n",
    "from imblearn.over_sampling import SMOTE\n",
    "from scipy.stats import shapiro\n",
    "from scipy.stats import skew, kurtosis\n",
    "import scipy.stats as stats\n",
    "\n",
    "from sklearn.linear_model import LogisticRegression\n",
    "from lightgbm import LGBMClassifier\n",
    "from xgboost import XGBClassifier\n",
    "\n",
    "import warnings\n",
    "warnings.filterwarnings(\"ignore\")"
   ]
  },
  {
   "cell_type": "code",
   "execution_count": 2,
   "id": "5b4190c6",
   "metadata": {
    "id": "5b4190c6",
    "outputId": "b1eba273-e13b-4b2e-e0df-bc2f498d3896"
   },
   "outputs": [
    {
     "data": {
      "text/html": [
       "<div>\n",
       "<style scoped>\n",
       "    .dataframe tbody tr th:only-of-type {\n",
       "        vertical-align: middle;\n",
       "    }\n",
       "\n",
       "    .dataframe tbody tr th {\n",
       "        vertical-align: top;\n",
       "    }\n",
       "\n",
       "    .dataframe thead th {\n",
       "        text-align: right;\n",
       "    }\n",
       "</style>\n",
       "<table border=\"1\" class=\"dataframe\">\n",
       "  <thead>\n",
       "    <tr style=\"text-align: right;\">\n",
       "      <th></th>\n",
       "      <th>Time</th>\n",
       "      <th>V1</th>\n",
       "      <th>V2</th>\n",
       "      <th>V3</th>\n",
       "      <th>V4</th>\n",
       "      <th>V5</th>\n",
       "      <th>V6</th>\n",
       "      <th>V7</th>\n",
       "      <th>V8</th>\n",
       "      <th>V9</th>\n",
       "      <th>...</th>\n",
       "      <th>V21</th>\n",
       "      <th>V22</th>\n",
       "      <th>V23</th>\n",
       "      <th>V24</th>\n",
       "      <th>V25</th>\n",
       "      <th>V26</th>\n",
       "      <th>V27</th>\n",
       "      <th>V28</th>\n",
       "      <th>Amount</th>\n",
       "      <th>Class</th>\n",
       "    </tr>\n",
       "  </thead>\n",
       "  <tbody>\n",
       "    <tr>\n",
       "      <th>0</th>\n",
       "      <td>0.0</td>\n",
       "      <td>-1.359807</td>\n",
       "      <td>-0.072781</td>\n",
       "      <td>2.536347</td>\n",
       "      <td>1.378155</td>\n",
       "      <td>-0.338321</td>\n",
       "      <td>0.462388</td>\n",
       "      <td>0.239599</td>\n",
       "      <td>0.098698</td>\n",
       "      <td>0.363787</td>\n",
       "      <td>...</td>\n",
       "      <td>-0.018307</td>\n",
       "      <td>0.277838</td>\n",
       "      <td>-0.110474</td>\n",
       "      <td>0.066928</td>\n",
       "      <td>0.128539</td>\n",
       "      <td>-0.189115</td>\n",
       "      <td>0.133558</td>\n",
       "      <td>-0.021053</td>\n",
       "      <td>149.62</td>\n",
       "      <td>0</td>\n",
       "    </tr>\n",
       "    <tr>\n",
       "      <th>1</th>\n",
       "      <td>0.0</td>\n",
       "      <td>1.191857</td>\n",
       "      <td>0.266151</td>\n",
       "      <td>0.166480</td>\n",
       "      <td>0.448154</td>\n",
       "      <td>0.060018</td>\n",
       "      <td>-0.082361</td>\n",
       "      <td>-0.078803</td>\n",
       "      <td>0.085102</td>\n",
       "      <td>-0.255425</td>\n",
       "      <td>...</td>\n",
       "      <td>-0.225775</td>\n",
       "      <td>-0.638672</td>\n",
       "      <td>0.101288</td>\n",
       "      <td>-0.339846</td>\n",
       "      <td>0.167170</td>\n",
       "      <td>0.125895</td>\n",
       "      <td>-0.008983</td>\n",
       "      <td>0.014724</td>\n",
       "      <td>2.69</td>\n",
       "      <td>0</td>\n",
       "    </tr>\n",
       "    <tr>\n",
       "      <th>2</th>\n",
       "      <td>1.0</td>\n",
       "      <td>-1.358354</td>\n",
       "      <td>-1.340163</td>\n",
       "      <td>1.773209</td>\n",
       "      <td>0.379780</td>\n",
       "      <td>-0.503198</td>\n",
       "      <td>1.800499</td>\n",
       "      <td>0.791461</td>\n",
       "      <td>0.247676</td>\n",
       "      <td>-1.514654</td>\n",
       "      <td>...</td>\n",
       "      <td>0.247998</td>\n",
       "      <td>0.771679</td>\n",
       "      <td>0.909412</td>\n",
       "      <td>-0.689281</td>\n",
       "      <td>-0.327642</td>\n",
       "      <td>-0.139097</td>\n",
       "      <td>-0.055353</td>\n",
       "      <td>-0.059752</td>\n",
       "      <td>378.66</td>\n",
       "      <td>0</td>\n",
       "    </tr>\n",
       "  </tbody>\n",
       "</table>\n",
       "<p>3 rows × 31 columns</p>\n",
       "</div>"
      ],
      "text/plain": [
       "   Time        V1        V2        V3        V4        V5        V6        V7  \\\n",
       "0   0.0 -1.359807 -0.072781  2.536347  1.378155 -0.338321  0.462388  0.239599   \n",
       "1   0.0  1.191857  0.266151  0.166480  0.448154  0.060018 -0.082361 -0.078803   \n",
       "2   1.0 -1.358354 -1.340163  1.773209  0.379780 -0.503198  1.800499  0.791461   \n",
       "\n",
       "         V8        V9  ...       V21       V22       V23       V24       V25  \\\n",
       "0  0.098698  0.363787  ... -0.018307  0.277838 -0.110474  0.066928  0.128539   \n",
       "1  0.085102 -0.255425  ... -0.225775 -0.638672  0.101288 -0.339846  0.167170   \n",
       "2  0.247676 -1.514654  ...  0.247998  0.771679  0.909412 -0.689281 -0.327642   \n",
       "\n",
       "        V26       V27       V28  Amount  Class  \n",
       "0 -0.189115  0.133558 -0.021053  149.62      0  \n",
       "1  0.125895 -0.008983  0.014724    2.69      0  \n",
       "2 -0.139097 -0.055353 -0.059752  378.66      0  \n",
       "\n",
       "[3 rows x 31 columns]"
      ]
     },
     "execution_count": 2,
     "metadata": {},
     "output_type": "execute_result"
    }
   ],
   "source": [
    "card_df=pd.read_csv('./creditcard.csv')\n",
    "card_df.head(3) #3 rows × 31 columns\n",
    "# 이상탐지 문제\n",
    "# 레이블 [Class]1:사기거래 //  결재금액[Amount] // 컬럼명은 없이 성능 올려보는게 목적\n",
    "# [Time]은 시퀀스, 순번으로 봐도 무방하고 크게 의미가 없으므로 삭제한다."
   ]
  },
  {
   "cell_type": "code",
   "execution_count": 3,
   "id": "07d99911",
   "metadata": {
    "id": "07d99911",
    "outputId": "2323c286-2029-424b-b1eb-d17c51750fa3"
   },
   "outputs": [
    {
     "name": "stdout",
     "output_type": "stream",
     "text": [
      "<class 'pandas.core.frame.DataFrame'>\n",
      "RangeIndex: 284807 entries, 0 to 284806\n",
      "Data columns (total 31 columns):\n",
      " #   Column  Non-Null Count   Dtype  \n",
      "---  ------  --------------   -----  \n",
      " 0   Time    284807 non-null  float64\n",
      " 1   V1      284807 non-null  float64\n",
      " 2   V2      284807 non-null  float64\n",
      " 3   V3      284807 non-null  float64\n",
      " 4   V4      284807 non-null  float64\n",
      " 5   V5      284807 non-null  float64\n",
      " 6   V6      284807 non-null  float64\n",
      " 7   V7      284807 non-null  float64\n",
      " 8   V8      284807 non-null  float64\n",
      " 9   V9      284807 non-null  float64\n",
      " 10  V10     284807 non-null  float64\n",
      " 11  V11     284807 non-null  float64\n",
      " 12  V12     284807 non-null  float64\n",
      " 13  V13     284807 non-null  float64\n",
      " 14  V14     284807 non-null  float64\n",
      " 15  V15     284807 non-null  float64\n",
      " 16  V16     284807 non-null  float64\n",
      " 17  V17     284807 non-null  float64\n",
      " 18  V18     284807 non-null  float64\n",
      " 19  V19     284807 non-null  float64\n",
      " 20  V20     284807 non-null  float64\n",
      " 21  V21     284807 non-null  float64\n",
      " 22  V22     284807 non-null  float64\n",
      " 23  V23     284807 non-null  float64\n",
      " 24  V24     284807 non-null  float64\n",
      " 25  V25     284807 non-null  float64\n",
      " 26  V26     284807 non-null  float64\n",
      " 27  V27     284807 non-null  float64\n",
      " 28  V28     284807 non-null  float64\n",
      " 29  Amount  284807 non-null  float64\n",
      " 30  Class   284807 non-null  int64  \n",
      "dtypes: float64(30), int64(1)\n",
      "memory usage: 67.4 MB\n"
     ]
    }
   ],
   "source": [
    "card_df.info() # 284807 rows × 31 columns"
   ]
  },
  {
   "cell_type": "code",
   "execution_count": 4,
   "id": "9b42ddc2",
   "metadata": {
    "id": "9b42ddc2",
    "outputId": "e472a748-d55c-4f03-d084-6b98f6012ab8"
   },
   "outputs": [
    {
     "data": {
      "text/plain": [
       "Class\n",
       "0    284315\n",
       "1       492\n",
       "Name: count, dtype: int64"
      ]
     },
     "execution_count": 4,
     "metadata": {},
     "output_type": "execute_result"
    }
   ],
   "source": [
    "# 전체 레이블의 균형성 확인\n",
    "card_df['Class'].value_counts() # 0: 284315 , 1: 492"
   ]
  },
  {
   "cell_type": "code",
   "execution_count": 5,
   "id": "17364cbe",
   "metadata": {
    "id": "17364cbe",
    "outputId": "26146c7a-d29f-4624-d684-ce737ecdf52a"
   },
   "outputs": [
    {
     "name": "stdout",
     "output_type": "stream",
     "text": [
      "사기거래 비율 : 0.0017\n"
     ]
    }
   ],
   "source": [
    "# 사기거래 비율 : 0.0017\n",
    "# 매우 불균형한 데이터셋\n",
    "rate = card_df['Class'].value_counts()[1]/card_df['Class'].count().sum()\n",
    "print(f'사기거래 비율 : {rate:.4f}')"
   ]
  },
  {
   "cell_type": "markdown",
   "id": "d233e08f",
   "metadata": {
    "id": "d233e08f"
   },
   "source": [
    "---\n",
    "### 데이터 전처리\n",
    "---\n",
    "\n"
   ]
  },
  {
   "cell_type": "code",
   "execution_count": 6,
   "id": "f11937e4",
   "metadata": {
    "id": "f11937e4"
   },
   "outputs": [],
   "source": [
    "# df를 복사해서 Time 피쳐 삭제 하고 df를 반환하는 함수 (4단계로 전처리 할때 사용)\n",
    "def get_preprocessed_df(df=None):\n",
    "    df_copy = df.copy() # 원본복사\n",
    "    df_copy.drop('Time', axis=1, inplace=True) # Time 피쳐 삭제해서 리턴\n",
    "    return df_copy"
   ]
  },
  {
   "cell_type": "code",
   "execution_count": 7,
   "id": "0f205b3e",
   "metadata": {
    "id": "0f205b3e"
   },
   "outputs": [],
   "source": [
    "# 학습/테스트로 분리하는 함수\n",
    "def get_train_test_dataset(df=None):  \n",
    "    df_copy = get_preprocessed_df(df) # Time피쳐 drop\n",
    "    # df_copy 데이터와 레이블 분리\n",
    "    X_features = df_copy.iloc[:, :-1] # 데이터\n",
    "    y_target = df_copy.iloc[:, -1] # 레이블\n",
    "    # 학습/테스트 분리\n",
    "    X_train, X_test, y_train, y_test = train_test_split(\n",
    "        X_features, y_target, test_size=0.3, random_state=0, stratify=y_target\n",
    "    )  # stratify=y_target: 불균형 셋 비율을 맞춰서 나눔\n",
    "    return X_train, X_test, y_train, y_test # 학습/테스트 데이터 반환"
   ]
  },
  {
   "cell_type": "code",
   "execution_count": 8,
   "id": "ef488f3c",
   "metadata": {
    "id": "ef488f3c"
   },
   "outputs": [],
   "source": [
    "X_train, X_test, y_train, y_test = get_train_test_dataset(card_df) # 학습/테스트 분리"
   ]
  },
  {
   "cell_type": "markdown",
   "id": "61ceca6f",
   "metadata": {
    "id": "61ceca6f"
   },
   "source": [
    "---\n",
    "1. 전처리 없이 원본데이터\n",
    "2. 표준정규화\n",
    "3. 데이터로그 변환\n",
    "4. 이상치 제거 - Amount 컬럼\n",
    "5. smote 오버 샘플링"
   ]
  },
  {
   "cell_type": "code",
   "execution_count": 9,
   "id": "711acc37",
   "metadata": {
    "id": "711acc37",
    "outputId": "a4b12f46-7bec-41fd-a5f0-7f6daf1d1434"
   },
   "outputs": [
    {
     "name": "stdout",
     "output_type": "stream",
     "text": [
      "Class\n",
      "0    199020\n",
      "1       344\n",
      "Name: count, dtype: int64\n",
      "(199364,)\n",
      "학습 레이블 분포 비율:  Class\n",
      "0    0.998275\n",
      "1    0.001725\n",
      "Name: count, dtype: float64\n",
      "테스트 레이블 분포 비율:  Class\n",
      "0    0.998275\n",
      "1    0.001725\n",
      "Name: count, dtype: float64\n"
     ]
    }
   ],
   "source": [
    "# 데이터 확인\n",
    "print(y_train.value_counts())\n",
    "print(y_train.shape) # 1차원 튜플 인덱스 있긴함 (199364,)\n",
    "\n",
    "# 행렬곱으로 차원 맞춰진다. 전체합으로 나눠진다.\n",
    "# 학습/테스트 레이블 분포 비율확인\n",
    "print('학습 레이블 분포 비율: ', y_train.value_counts()/y_train.shape[0])   # 샘플 갯수로 나눔\n",
    "\n",
    "# 테스트 레이블 분포 비율확인 : 둘다 비슷한 비율로 분리됨 확인\n",
    "print('테스트 레이블 분포 비율: ', y_train.value_counts()/y_train.shape[0])   # 샘플 갯수로 나눔"
   ]
  },
  {
   "cell_type": "markdown",
   "id": "66833c4a",
   "metadata": {
    "id": "66833c4a"
   },
   "source": [
    "### 1. 원본 데이터 (가공 없이 모델 학습, 일반화 성능 확인)"
   ]
  },
  {
   "cell_type": "code",
   "execution_count": 10,
   "id": "402f3604",
   "metadata": {
    "id": "402f3604"
   },
   "outputs": [],
   "source": [
    "# 1. 원본데이터로 성능 확인\n",
    "# 불균형 레이블 평가시 : 정확도(accuracy)로 평가보다는 AUC(Area Under Curve)등 다른 점수 중요\n",
    "\n",
    "# 평가결과를 출력하는 함수 (혼동행렬~AUC 점수를 출력 저장하도록 수정함)\n",
    "def get_clf_eval(y_test, pred=None, pred_proba=None):\n",
    "    confusion = confusion_matrix(y_test, pred)\n",
    "    accuracy = accuracy_score(y_test , pred)\n",
    "    precision = precision_score(y_test , pred)\n",
    "    recall = recall_score(y_test , pred)\n",
    "    f1 = f1_score(y_test,pred)\n",
    "    # ROC-AUC 추가\n",
    "    roc_auc = roc_auc_score(y_test, pred_proba)\n",
    "    # 결과저장\n",
    "    result = {\n",
    "        '오차행렬': confusion.tolist(),\n",
    "        '정확도': round(accuracy,4),\n",
    "        '정밀도': round(precision,4),\n",
    "        '재현율': round(recall,4),\n",
    "        'F1': round(f1,4),\n",
    "        'AUC': round(roc_auc,4)\n",
    "    }\n",
    "    print(result)\n",
    "    return result\n"
   ]
  },
  {
   "cell_type": "code",
   "execution_count": 11,
   "id": "e246044b",
   "metadata": {
    "id": "e246044b"
   },
   "outputs": [],
   "source": [
    "# 저장할 딕셔너리 준비 : 모델별로 분리\n",
    "lr_metric = {\n",
    "    'TN': [],\n",
    "    'FP': [],\n",
    "    'FN': [],\n",
    "    'TP': [],\n",
    "    '정확도': [],\n",
    "    '정밀도': [],\n",
    "    '재현율': [],\n",
    "    'F1': [],\n",
    "    'AUC': []\n",
    "}\n",
    "\n",
    "lgbm_metric = {\n",
    "    'TN': [],\n",
    "    'FP': [],\n",
    "    'FN': [],\n",
    "    'TP': [],\n",
    "    '정확도': [],\n",
    "    '정밀도': [],\n",
    "    '재현율': [],\n",
    "    'F1': [],\n",
    "    'AUC': []\n",
    "}\n",
    "\n",
    "xgb_metric = {\n",
    "    'TN': [],\n",
    "    'FP': [],\n",
    "    'FN': [],\n",
    "    'TP': [],\n",
    "    '정확도': [],\n",
    "    '정밀도': [],\n",
    "    '재현율': [],\n",
    "    'F1': [],\n",
    "    'AUC': []\n",
    "}\n",
    "\n",
    "# 결과(dict)를 받아 딕셔너리(dict)로 저장하는 함수(모델딕셔너리, 평가결과)\n",
    "def add_result_dict(model_metric, model_result):\n",
    "    if '오차행렬' in model_result:\n",
    "        tn, fp = model_result['오차행렬'][0]  # 키값으로 선택하고 인덱스로 접근한다.\n",
    "        fn, tp = model_result['오차행렬'][1]\n",
    "\n",
    "        model_metric['TN'].append(tn)   # 입력하기\n",
    "        model_metric['FP'].append(fp)\n",
    "        model_metric['FN'].append(fn)\n",
    "        model_metric['TP'].append(tp)\n",
    "\n",
    "    # 나머지는 키값으로 바로 불러지므로 딕셔너리에 바로 추가\n",
    "    for x in ['정확도', '정밀도', '재현율', 'F1', 'AUC']:\n",
    "        if x in model_result: # 해당지표가 결과dict에 있다면 입력\n",
    "            model_metric[x].append(model_result[x])"
   ]
  },
  {
   "cell_type": "code",
   "execution_count": 12,
   "id": "ad9f6654",
   "metadata": {
    "id": "ad9f6654"
   },
   "outputs": [],
   "source": [
    "# 학습, 예측, 예측률, 평가(함수호출)하는 함수 (모델만 바꿔 넣어줌)\n",
    "\n",
    "def get_model_train_eval(model,             # 사용할 모델\n",
    "                         ftr_train=None,    # 학습\n",
    "                         ftr_test=None,     # 테스트\n",
    "                         tgt_train=None,    # 학습 레이블\n",
    "                         tgt_test=None):    # 테스트 레이블\n",
    "    model.fit(ftr_train, tgt_train)     # 학습\n",
    "    pred=model.predict(ftr_test)        # 일반화 성능: 예측값\n",
    "    pred_proba=model.predict_proba(ftr_test)[:,1] # 예측확률 (1 사기일 확률만 가져옴)\n",
    "    # 평가함수 호출 : 일반화 성능 평가\n",
    "    result = get_clf_eval(tgt_test, pred, pred_proba)\n",
    "    return result # 결과물 반환: 시각화를 위해 딕셔너리에 저장하는 용도"
   ]
  },
  {
   "cell_type": "code",
   "execution_count": 13,
   "id": "5b4499e3",
   "metadata": {
    "id": "5b4499e3",
    "outputId": "d2b2f645-41bd-4405-a87a-0afde3379771"
   },
   "outputs": [
    {
     "name": "stdout",
     "output_type": "stream",
     "text": [
      "{'오차행렬': [[85281, 14], [56, 92]], '정확도': 0.9992, '정밀도': 0.8679, '재현율': 0.6216, 'F1': 0.7244, 'AUC': np.float64(0.9699)}\n"
     ]
    },
    {
     "data": {
      "text/plain": [
       "{'오차행렬': [[85281, 14], [56, 92]],\n",
       " '정확도': 0.9992,\n",
       " '정밀도': 0.8679,\n",
       " '재현율': 0.6216,\n",
       " 'F1': 0.7244,\n",
       " 'AUC': np.float64(0.9699)}"
      ]
     },
     "execution_count": 13,
     "metadata": {},
     "output_type": "execute_result"
    }
   ],
   "source": [
    "# 함수 작동하는지 확인하는 코드\n",
    "\n",
    "# 1 오브젝트 생성\n",
    "lr_clf = LogisticRegression(\n",
    "    max_iter=100,\n",
    "    solver='liblinear', # 이진분류, l1,l2 사용, 작은 데이터셋\n",
    "    penalty = 'l2', # L2규제\n",
    "    C=50, # 규제강도 1.0 은 강한규제\n",
    "    n_jobs=-1 # CPU 코어\n",
    ")\n",
    "\n",
    "# 2 학습\n",
    "lr_clf.fit(X_train,y_train)\n",
    "\n",
    "# 3 모델 평가(일반화성능) : 예측값, 예측확률 필요\n",
    "# 예측값 (0,1)\n",
    "lr_pred = lr_clf.predict(X_test)\n",
    "# 예측확률은 ([0일확률, 1일 확률]) 2차원으로 나옴\n",
    "lr_pred_proba= lr_clf.predict_proba(X_test)[:,1] # 1일 확률만 : 사기거래 확률만 가져옴\n",
    "\n",
    "# 4 평가 함수\n",
    "get_clf_eval(y_test,lr_pred, lr_pred_proba)\n",
    "\n",
    "\n",
    "# 정확도 높게 나온다: 레이블 99%가 0이기 때문\n",
    "# (예측)정밀도, (실제)재현율, f1점수 등이 많이 떨어짐\n",
    "\n",
    "# {'오차행렬': [[85281, 14], [58, 90]], '정확도': 0.9992, '정밀도': 0.8654, '재현율': 0.6081, 'F1': 0.7143, 'AUC': np.float64(0.9743)}"
   ]
  },
  {
   "cell_type": "code",
   "execution_count": 14,
   "id": "12c8a6b9",
   "metadata": {},
   "outputs": [
    {
     "name": "stdout",
     "output_type": "stream",
     "text": [
      "{'오차행렬': [[85281, 14], [56, 92]], '정확도': 0.9992, '정밀도': 0.8679, '재현율': 0.6216, 'F1': 0.7244, 'AUC': np.float64(0.9699)}\n"
     ]
    }
   ],
   "source": [
    "# 1 LR\n",
    "\n",
    "lr_clf = LogisticRegression(\n",
    "    max_iter=100,\n",
    "    solver='liblinear', # 이진분류, l1,l2 사용, 작은 데이터셋\n",
    "    penalty = 'l2', # L2규제\n",
    "    C=50, # 규제강도 1.0 은 강한규제\n",
    "    n_jobs=-1 # CPU 코어\n",
    ")\n",
    "\n",
    "lr_result = get_model_train_eval(lr_clf,\n",
    "                     ftr_train=X_train,\n",
    "                     ftr_test=X_test,\n",
    "                     tgt_train=y_train,\n",
    "                     tgt_test=y_test) # 모델 학습/예측/평가 함수\n",
    "\n",
    "\n",
    "\n",
    "# {'오차행렬': [[85282, 13], [57, 91]], '정확도': 0.9992, '정밀도': 0.875, '재현율': 0.6149, 'F1': 0.7222, 'AUC': np.float64(0.9739)}"
   ]
  },
  {
   "cell_type": "code",
   "execution_count": 15,
   "id": "00482e93",
   "metadata": {
    "id": "00482e93",
    "outputId": "630598b4-7537-4769-fafd-1a8bb71c0127"
   },
   "outputs": [
    {
     "name": "stdout",
     "output_type": "stream",
     "text": [
      "{'오차행렬': [[85290, 5], [36, 112]], '정확도': 0.9995, '정밀도': 0.9573, '재현율': 0.7568, 'F1': 0.8453, 'AUC': np.float64(0.979)}\n"
     ]
    }
   ],
   "source": [
    "# 2 lightgbm\n",
    "\n",
    "lgbm_clf = LGBMClassifier(\n",
    "    n_estimators=1000,\n",
    "    num_leaves=64, # 트리하나가 가질수 있는 최대 리프개수\n",
    "    verbose=-1,\n",
    "    n_jobs=-1, \n",
    "    boost_from_average=False) # 극도로 불균형한 레이블 일경우 False로 설정\n",
    "\n",
    "lgbm_result = get_model_train_eval(lgbm_clf,\n",
    "                     ftr_train=X_train,\n",
    "                     ftr_test=X_test,\n",
    "                     tgt_train=y_train,\n",
    "                     tgt_test=y_test) # 모델 학습/예측/평가 함수\n",
    "\n",
    "# {'오차행렬': [[85290, 5], [36, 112]], '정확도': 0.9995, '정밀도': 0.9573, '재현율': 0.7568, 'F1': 0.8453, 'AUC': np.float64(0.979)}"
   ]
  },
  {
   "cell_type": "code",
   "execution_count": 16,
   "id": "ed9a836d",
   "metadata": {
    "id": "ed9a836d",
    "outputId": "983eeec1-8511-4156-9d65-219bdc1900f0"
   },
   "outputs": [
    {
     "name": "stdout",
     "output_type": "stream",
     "text": [
      "{'오차행렬': [[85289, 6], [39, 109]], '정확도': 0.9995, '정밀도': 0.9478, '재현율': 0.7365, 'F1': 0.8289, 'AUC': np.float64(0.9798)}\n"
     ]
    }
   ],
   "source": [
    "# 3 XGBoost \n",
    "\n",
    "xgb_clf = XGBClassifier(\n",
    "    n_estimators=1000,\n",
    "    learning_rate=0.1,\n",
    "    max_depth=3,\n",
    "    n_jobs=-1\n",
    ")\n",
    "\n",
    "xgb_result = get_model_train_eval(xgb_clf,\n",
    "                     ftr_train=X_train,\n",
    "                     ftr_test=X_test,\n",
    "                     tgt_train=y_train,\n",
    "                     tgt_test=y_test) # 모델 학습/예측/평가 함수\n",
    "\n",
    "\n",
    "\n",
    "# 오차 행렬\n",
    "# [[85290     5]\n",
    "#  [   28   118]]\n",
    "# 정확도: 0.9996, 정밀도: 0.9593, 재현율: 0.8082,    F1: 0.8773, AUC:0.9809"
   ]
  },
  {
   "cell_type": "code",
   "execution_count": 17,
   "id": "2a831f78",
   "metadata": {},
   "outputs": [],
   "source": [
    "# 1 base 성능 저장\n",
    "add_result_dict(lr_metric, lr_result)\n",
    "add_result_dict(lgbm_metric, lgbm_result)\n",
    "add_result_dict(xgb_metric, xgb_result)"
   ]
  },
  {
   "cell_type": "markdown",
   "id": "9649eec7",
   "metadata": {
    "id": "9649eec7"
   },
   "source": [
    "### 2. StandardScaler로 데이터 정규화"
   ]
  },
  {
   "cell_type": "code",
   "execution_count": 18,
   "id": "4ec61b1e",
   "metadata": {
    "id": "4ec61b1e",
    "outputId": "7188d717-c5c7-44a3-d3a6-26d2424e627d"
   },
   "outputs": [
    {
     "data": {
      "text/plain": [
       "(25691.16, 0.0)"
      ]
     },
     "execution_count": 18,
     "metadata": {},
     "output_type": "execute_result"
    }
   ],
   "source": [
    "card_df['Amount'].max(), card_df['Amount'].min() # 결재금액의 최대값, 최소값 확인 # (25691.16, 0.0)\n"
   ]
  },
  {
   "cell_type": "code",
   "execution_count": 19,
   "id": "ac5852d9",
   "metadata": {
    "id": "ac5852d9",
    "outputId": "e23befc5-ea3f-4be9-a250-577d92819e05"
   },
   "outputs": [
    {
     "data": {
      "image/png": "[encoded data removed]",
      "text/plain": [
       "<Figure size 800x400 with 1 Axes>"
      ]
     },
     "metadata": {},
     "output_type": "display_data"
    }
   ],
   "source": [
    "# 특정 피처의 데이터 분포 확인 Amount : 왜도 첨도\n",
    "\n",
    "plt.figure(figsize=(8,4))\n",
    "plt.xticks(range(0,30000, 1000), rotation=60)\n",
    "sns.histplot(card_df['Amount'], bins=100, kde=True) # 각구간의 빈도수를 체크, bins=구간나누기(세로), kde: 분포 곡선\n",
    "plt.show()\n",
    "\n",
    "# 해석: 정상결재가 한쪽으로 몰려있다. 빈도가 낮고 금액이 큰 것이 이상치. 이상치 금액이 매우 높다."
   ]
  },
  {
   "cell_type": "code",
   "execution_count": 20,
   "id": "f4326918",
   "metadata": {
    "id": "f4326918",
    "outputId": "9032630a-bb3a-4c15-fbe8-732d5d6a422e"
   },
   "outputs": [
    {
     "name": "stdout",
     "output_type": "stream",
     "text": [
      "16.97763503663315\n",
      "845.0777883188754\n"
     ]
    }
   ],
   "source": [
    "# 왜도값 확인 : 데이터의 비대칭성 확인에 사용\n",
    "# 양의 왜도 처리방식: 로그 변환(대표적)\n",
    "\n",
    "# 첨도값 확인 : 극단값 존재 여부 확인\n",
    "# 양의 첨도 처리: 극단값처리 필수, 적절한 모델(알고리즘) 선택 필요\n",
    "\n",
    "\n",
    "print(skew(card_df['Amount']))      # 왜도값 확인 : 양의 왜도  16.97763503663315\n",
    "\n",
    "print(kurtosis(card_df['Amount']))  # 첨도값 확인 : 845.0777883188754 뾰족한 그래프"
   ]
  },
  {
   "cell_type": "code",
   "execution_count": 21,
   "id": "746d401f",
   "metadata": {
    "id": "746d401f",
    "outputId": "fa29594c-2a77-4ef0-9b8c-e2116465fe77"
   },
   "outputs": [
    {
     "name": "stdout",
     "output_type": "stream",
     "text": [
      "통계량: 0.31004461476982703\n",
      "p_value: 6.536480219597055e-199\n",
      "정규성 없음\n"
     ]
    }
   ],
   "source": [
    "# shapiro() : Amount 피처의 정규성 확인\n",
    "\n",
    "\n",
    "stat, p = shapiro(card_df['Amount'].values)\n",
    "\n",
    "print(f'통계량: {stat}')\n",
    "print(f'p_value: {p}')\n",
    "\n",
    "if p >0.05:\n",
    "    print('정규성을 만족')\n",
    "else:\n",
    "    print('정규성 없음')"
   ]
  },
  {
   "cell_type": "code",
   "execution_count": 22,
   "id": "eeb146d8",
   "metadata": {
    "id": "eeb146d8",
    "outputId": "e58df837-4046-4846-f0de-1f707bcc8221"
   },
   "outputs": [
    {
     "data": {
      "image/png": "[encoded data removed]",
      "text/plain": [
       "<Figure size 640x480 with 1 Axes>"
      ]
     },
     "metadata": {},
     "output_type": "display_data"
    }
   ],
   "source": [
    "# 정규성 있는 데이터와 비교 : qq plot 정규분포를 따르는지 시각화하여 확인하는데 사용\n",
    "\n",
    "data=np.random.normal(loc=0, scale=1, size=1000)\n",
    "\n",
    "# qq plot 생성\n",
    "stats.probplot(data, dist='norm', plot=plt) # dist='norm' 정규분보와 비교\n",
    "\n",
    "plt.grid()\n",
    "plt.show()\n"
   ]
  },
  {
   "cell_type": "code",
   "execution_count": 23,
   "id": "806e3b95",
   "metadata": {
    "id": "806e3b95",
    "outputId": "edfe7cc7-2832-420e-c709-9c808d72867a"
   },
   "outputs": [
    {
     "data": {
      "image/png": "[encoded data removed]",
      "text/plain": [
       "<Figure size 640x480 with 1 Axes>"
      ]
     },
     "metadata": {},
     "output_type": "display_data"
    }
   ],
   "source": [
    "# Amount 피쳐 시각화하여 정규분포와 비교\n",
    "stats.probplot(card_df['Amount'].values, dist='norm', plot=plt)\n",
    "\n",
    "plt.grid()\n",
    "plt.show()"
   ]
  },
  {
   "cell_type": "code",
   "execution_count": 24,
   "id": "81a532f3",
   "metadata": {
    "id": "81a532f3",
    "outputId": "beaebcf8-18fd-47ec-e821-b6a14524cec2"
   },
   "outputs": [
    {
     "name": "stdout",
     "output_type": "stream",
     "text": [
      "원본데이터의 평균: 88.34961925093133, \n",
      "표준편차: 250.1201092402221, \n",
      "왜도: 16.97763503663315, \n",
      "첨도: 845.0777883188754\n",
      "\n",
      "SS 적용한 데이터의 평균: 2.913951958230651e-17, \n",
      "표준편차: 1.0, \n",
      "왜도: [16.97763504], \n",
      "첨도: [845.07778832]\n"
     ]
    }
   ],
   "source": [
    "# 2.StandardScaler적용하고 정규분포에 가까와지는지 확인\n",
    "\n",
    "# Amount 피처 : 평균 표준편차 왜도 첨도 구하기 :원본\n",
    "avg_amount=card_df['Amount'].mean()\n",
    "std_amount=card_df['Amount'].std()\n",
    "skew_amount=skew(card_df['Amount'])\n",
    "kurtosis_amount=kurtosis(card_df['Amount'])\n",
    "\n",
    "# SS 적용\n",
    "scaler=StandardScaler()\n",
    "ss_amount=scaler.fit_transform(card_df['Amount'].values.reshape(-1,1)) # 2차원으로 변환\n",
    "\n",
    "print(f'원본데이터의 평균: {avg_amount}, \\n표준편차: {std_amount}, \\n왜도: {skew_amount}, \\n첨도: {kurtosis_amount}')\n",
    "print()\n",
    "print(f'SS 적용한 데이터의 평균: {ss_amount.mean()}, \\n표준편차: {ss_amount.std()}, \\n왜도: {skew(ss_amount)}, \\n첨도: {kurtosis(ss_amount)}')\n",
    "\n",
    "# 정규분포로 바뀌지는 않는다 = SS해도 왜도 첨도가 바뀌진 않음 (주의)\n",
    "# 표준화만 됨 (일정범위로 만들어 서로 비교되도록 하는 정도임)\n",
    "\n",
    "# 원본데이터의 평균: 88.34961925093133,\n",
    "# 표준편차: 250.1201092402221,\n",
    "# 왜도: 16.97763503663315,\n",
    "# 첨도: 845.0777883188754\n",
    "\n",
    "# SS 적용한 데이터의 평균: 2.913951958230651e-17,\n",
    "# 표준편차: 1.0,\n",
    "# 왜도: 16.97763504,\n",
    "# 첨도: 845.07778832"
   ]
  },
  {
   "cell_type": "markdown",
   "id": "1159af73",
   "metadata": {
    "id": "1159af73"
   },
   "source": [
    "### 3. 로그변환"
   ]
  },
  {
   "cell_type": "code",
   "execution_count": 25,
   "id": "1bb4680c",
   "metadata": {
    "id": "1bb4680c"
   },
   "outputs": [],
   "source": [
    "# 전처리 함수 수정 : np.log1p 적용\n",
    "def get_preprocessed_df(df=None):\n",
    "    df_copy = df.copy()\n",
    "    amount_n=np.log1p(df_copy['Amount'])    # 로그함수 적용\n",
    "    df_copy.insert(0,'Amount_Scaled', amount_n) # 재입력\n",
    "    df_copy.drop(['Time', 'Amount'], axis=1, inplace=True)\n",
    "    # 전처리된 df 반환\n",
    "    return df_copy"
   ]
  },
  {
   "cell_type": "code",
   "execution_count": 26,
   "id": "95efd130",
   "metadata": {
    "id": "95efd130"
   },
   "outputs": [],
   "source": [
    "# 원본 데이터프레임에 로그함수로 전처리\n",
    "X_train, X_test, y_train, y_test = get_train_test_dataset(card_df)"
   ]
  },
  {
   "cell_type": "code",
   "execution_count": 27,
   "id": "f1d7ea48",
   "metadata": {
    "id": "f1d7ea48",
    "outputId": "03c346eb-05be-4928-e150-dd11300ef529"
   },
   "outputs": [
    {
     "data": {
      "text/html": [
       "<div>\n",
       "<style scoped>\n",
       "    .dataframe tbody tr th:only-of-type {\n",
       "        vertical-align: middle;\n",
       "    }\n",
       "\n",
       "    .dataframe tbody tr th {\n",
       "        vertical-align: top;\n",
       "    }\n",
       "\n",
       "    .dataframe thead th {\n",
       "        text-align: right;\n",
       "    }\n",
       "</style>\n",
       "<table border=\"1\" class=\"dataframe\">\n",
       "  <thead>\n",
       "    <tr style=\"text-align: right;\">\n",
       "      <th></th>\n",
       "      <th>Amount_Scaled</th>\n",
       "      <th>V1</th>\n",
       "      <th>V2</th>\n",
       "      <th>V3</th>\n",
       "      <th>V4</th>\n",
       "      <th>V5</th>\n",
       "      <th>V6</th>\n",
       "      <th>V7</th>\n",
       "      <th>V8</th>\n",
       "      <th>V9</th>\n",
       "      <th>...</th>\n",
       "      <th>V19</th>\n",
       "      <th>V20</th>\n",
       "      <th>V21</th>\n",
       "      <th>V22</th>\n",
       "      <th>V23</th>\n",
       "      <th>V24</th>\n",
       "      <th>V25</th>\n",
       "      <th>V26</th>\n",
       "      <th>V27</th>\n",
       "      <th>V28</th>\n",
       "    </tr>\n",
       "  </thead>\n",
       "  <tbody>\n",
       "    <tr>\n",
       "      <th>211605</th>\n",
       "      <td>0.524729</td>\n",
       "      <td>-8.367621</td>\n",
       "      <td>7.402969</td>\n",
       "      <td>-5.114191</td>\n",
       "      <td>-2.966792</td>\n",
       "      <td>-0.985904</td>\n",
       "      <td>-1.660018</td>\n",
       "      <td>0.397816</td>\n",
       "      <td>1.008250</td>\n",
       "      <td>5.290976</td>\n",
       "      <td>...</td>\n",
       "      <td>-0.750795</td>\n",
       "      <td>3.589299</td>\n",
       "      <td>-0.557927</td>\n",
       "      <td>0.349087</td>\n",
       "      <td>0.301734</td>\n",
       "      <td>0.662330</td>\n",
       "      <td>1.145939</td>\n",
       "      <td>-0.012273</td>\n",
       "      <td>1.513736</td>\n",
       "      <td>0.669504</td>\n",
       "    </tr>\n",
       "    <tr>\n",
       "      <th>231628</th>\n",
       "      <td>4.033710</td>\n",
       "      <td>-1.290662</td>\n",
       "      <td>0.764452</td>\n",
       "      <td>-0.169233</td>\n",
       "      <td>-1.688528</td>\n",
       "      <td>1.984718</td>\n",
       "      <td>-0.717210</td>\n",
       "      <td>1.667635</td>\n",
       "      <td>-0.228295</td>\n",
       "      <td>-0.959071</td>\n",
       "      <td>...</td>\n",
       "      <td>-0.059595</td>\n",
       "      <td>0.057620</td>\n",
       "      <td>0.138615</td>\n",
       "      <td>0.390374</td>\n",
       "      <td>-0.678774</td>\n",
       "      <td>0.292254</td>\n",
       "      <td>1.425865</td>\n",
       "      <td>0.265341</td>\n",
       "      <td>0.051405</td>\n",
       "      <td>0.103879</td>\n",
       "    </tr>\n",
       "    <tr>\n",
       "      <th>110643</th>\n",
       "      <td>2.525729</td>\n",
       "      <td>-0.606860</td>\n",
       "      <td>0.233923</td>\n",
       "      <td>2.633361</td>\n",
       "      <td>-0.155762</td>\n",
       "      <td>-0.328850</td>\n",
       "      <td>-0.070593</td>\n",
       "      <td>0.173023</td>\n",
       "      <td>0.113394</td>\n",
       "      <td>0.680147</td>\n",
       "      <td>...</td>\n",
       "      <td>-1.003842</td>\n",
       "      <td>-0.129287</td>\n",
       "      <td>0.007393</td>\n",
       "      <td>0.265045</td>\n",
       "      <td>-0.040615</td>\n",
       "      <td>0.406088</td>\n",
       "      <td>-0.498823</td>\n",
       "      <td>0.121851</td>\n",
       "      <td>-0.046840</td>\n",
       "      <td>-0.087259</td>\n",
       "    </tr>\n",
       "    <tr>\n",
       "      <th>11478</th>\n",
       "      <td>2.397895</td>\n",
       "      <td>1.374168</td>\n",
       "      <td>-0.330389</td>\n",
       "      <td>0.812971</td>\n",
       "      <td>-0.183112</td>\n",
       "      <td>-1.074771</td>\n",
       "      <td>-0.933788</td>\n",
       "      <td>-0.544238</td>\n",
       "      <td>-0.348237</td>\n",
       "      <td>0.614925</td>\n",
       "      <td>...</td>\n",
       "      <td>0.603330</td>\n",
       "      <td>0.078163</td>\n",
       "      <td>-0.134742</td>\n",
       "      <td>0.016793</td>\n",
       "      <td>0.002610</td>\n",
       "      <td>0.714527</td>\n",
       "      <td>0.536175</td>\n",
       "      <td>-0.307487</td>\n",
       "      <td>-0.003555</td>\n",
       "      <td>0.013024</td>\n",
       "    </tr>\n",
       "    <tr>\n",
       "      <th>243724</th>\n",
       "      <td>7.736766</td>\n",
       "      <td>-2.146505</td>\n",
       "      <td>-7.603113</td>\n",
       "      <td>-4.928224</td>\n",
       "      <td>1.449173</td>\n",
       "      <td>-2.083871</td>\n",
       "      <td>-0.984759</td>\n",
       "      <td>3.629816</td>\n",
       "      <td>-1.302973</td>\n",
       "      <td>-1.434148</td>\n",
       "      <td>...</td>\n",
       "      <td>-1.373723</td>\n",
       "      <td>4.009181</td>\n",
       "      <td>1.274986</td>\n",
       "      <td>-0.857670</td>\n",
       "      <td>-2.109682</td>\n",
       "      <td>0.169338</td>\n",
       "      <td>-0.322888</td>\n",
       "      <td>0.777822</td>\n",
       "      <td>-0.552258</td>\n",
       "      <td>0.304777</td>\n",
       "    </tr>\n",
       "  </tbody>\n",
       "</table>\n",
       "<p>5 rows × 29 columns</p>\n",
       "</div>"
      ],
      "text/plain": [
       "        Amount_Scaled        V1        V2        V3        V4        V5  \\\n",
       "211605       0.524729 -8.367621  7.402969 -5.114191 -2.966792 -0.985904   \n",
       "231628       4.033710 -1.290662  0.764452 -0.169233 -1.688528  1.984718   \n",
       "110643       2.525729 -0.606860  0.233923  2.633361 -0.155762 -0.328850   \n",
       "11478        2.397895  1.374168 -0.330389  0.812971 -0.183112 -1.074771   \n",
       "243724       7.736766 -2.146505 -7.603113 -4.928224  1.449173 -2.083871   \n",
       "\n",
       "              V6        V7        V8        V9  ...       V19       V20  \\\n",
       "211605 -1.660018  0.397816  1.008250  5.290976  ... -0.750795  3.589299   \n",
       "231628 -0.717210  1.667635 -0.228295 -0.959071  ... -0.059595  0.057620   \n",
       "110643 -0.070593  0.173023  0.113394  0.680147  ... -1.003842 -0.129287   \n",
       "11478  -0.933788 -0.544238 -0.348237  0.614925  ...  0.603330  0.078163   \n",
       "243724 -0.984759  3.629816 -1.302973 -1.434148  ... -1.373723  4.009181   \n",
       "\n",
       "             V21       V22       V23       V24       V25       V26       V27  \\\n",
       "211605 -0.557927  0.349087  0.301734  0.662330  1.145939 -0.012273  1.513736   \n",
       "231628  0.138615  0.390374 -0.678774  0.292254  1.425865  0.265341  0.051405   \n",
       "110643  0.007393  0.265045 -0.040615  0.406088 -0.498823  0.121851 -0.046840   \n",
       "11478  -0.134742  0.016793  0.002610  0.714527  0.536175 -0.307487 -0.003555   \n",
       "243724  1.274986 -0.857670 -2.109682  0.169338 -0.322888  0.777822 -0.552258   \n",
       "\n",
       "             V28  \n",
       "211605  0.669504  \n",
       "231628  0.103879  \n",
       "110643 -0.087259  \n",
       "11478   0.013024  \n",
       "243724  0.304777  \n",
       "\n",
       "[5 rows x 29 columns]"
      ]
     },
     "execution_count": 27,
     "metadata": {},
     "output_type": "execute_result"
    }
   ],
   "source": [
    "X_train.head() # 적용되었는지 확인"
   ]
  },
  {
   "cell_type": "code",
   "execution_count": 28,
   "id": "bd822ee1",
   "metadata": {
    "id": "bd822ee1",
    "outputId": "e94690bd-92cd-4f47-8049-f7f5ef141315"
   },
   "outputs": [
    {
     "data": {
      "image/png": "[encoded data removed]",
      "text/plain": [
       "<Figure size 800x400 with 1 Axes>"
      ]
     },
     "metadata": {},
     "output_type": "display_data"
    },
    {
     "name": "stdout",
     "output_type": "stream",
     "text": [
      "0.1624089300266736\n",
      "-0.6373140468164058\n"
     ]
    }
   ],
   "source": [
    "# 데이터 분포 확인 Amount : 왜도 첨도\n",
    "\n",
    "plt.figure(figsize=(8,4))\n",
    "plt.xticks(range(0,11,1), rotation=60)\n",
    "sns.histplot(X_train['Amount_Scaled'], bins=100, kde=True) # 각구간의 빈도수를 체크, bins=구간나누기(세로), kde: 분포 곡선\n",
    "plt.show()\n",
    "\n",
    "print(skew(X_train['Amount_Scaled'])) # 왜도값 확인: 0.1624089300266736 / 원본데이터 왜도  16.97763503663315\n",
    "\n",
    "print(kurtosis(X_train['Amount_Scaled'])) # 첨도값 확인: -0.6373140468164058 / 원본데이터 첨도 845.0777883188754 뾰족한 그래프"
   ]
  },
  {
   "cell_type": "code",
   "execution_count": 29,
   "id": "b00fec52",
   "metadata": {
    "id": "b00fec52",
    "outputId": "dbfcff28-3c67-44af-c2db-63fb2142d16b"
   },
   "outputs": [
    {
     "name": "stdout",
     "output_type": "stream",
     "text": [
      "### 로그처리후: LR\n",
      "{'오차행렬': [[85283, 12], [59, 89]], '정확도': 0.9992, '정밀도': 0.8812, '재현율': 0.6014, 'F1': 0.7149, 'AUC': np.float64(0.9723)}\n",
      "### 로그처리후: LGBM\n",
      "{'오차행렬': [[85290, 5], [35, 113]], '정확도': 0.9995, '정밀도': 0.9576, '재현율': 0.7635, 'F1': 0.8496, 'AUC': np.float64(0.9796)}\n",
      "### 로그처리후: XGB\n",
      "{'오차행렬': [[85289, 6], [39, 109]], '정확도': 0.9995, '정밀도': 0.9478, '재현율': 0.7365, 'F1': 0.8289, 'AUC': np.float64(0.9798)}\n"
     ]
    }
   ],
   "source": [
    "# 2 로그처리후 성능\n",
    "print('### 로그처리후: LR')\n",
    "lr_result = get_model_train_eval(lr_clf,\n",
    "                     ftr_train = X_train,\n",
    "                     ftr_test = X_test,\n",
    "                     tgt_train = y_train,\n",
    "                     tgt_test = y_test\n",
    "                     )\n",
    "\n",
    "\n",
    "print('### 로그처리후: LGBM')\n",
    "lgbm_result = get_model_train_eval(lgbm_clf,\n",
    "                     ftr_train = X_train,\n",
    "                     ftr_test = X_test,\n",
    "                     tgt_train = y_train,\n",
    "                     tgt_test = y_test\n",
    "                     )\n",
    "\n",
    "# 2 로그처리후 성능\n",
    "\n",
    "print('### 로그처리후: XGB')\n",
    "xgb_result = get_model_train_eval(xgb_clf,\n",
    "                     ftr_train = X_train,\n",
    "                     ftr_test = X_test,\n",
    "                     tgt_train = y_train,\n",
    "                     tgt_test = y_test\n",
    "                     )\n",
    "\n"
   ]
  },
  {
   "cell_type": "code",
   "execution_count": 30,
   "id": "eb2f4806",
   "metadata": {},
   "outputs": [],
   "source": [
    "# 2 log처리 결과 저장\n",
    "add_result_dict(lr_metric, lr_result)\n",
    "add_result_dict(lgbm_metric, lgbm_result)\n",
    "add_result_dict(xgb_metric, xgb_result)"
   ]
  },
  {
   "cell_type": "markdown",
   "id": "56f7c827",
   "metadata": {
    "id": "56f7c827"
   },
   "source": [
    "### 4. 이상치 제거  (IQR)"
   ]
  },
  {
   "cell_type": "code",
   "execution_count": 31,
   "id": "bf61061a",
   "metadata": {
    "id": "bf61061a",
    "outputId": "ba57f8b8-c59a-405b-9133-ec7e95d4519c"
   },
   "outputs": [
    {
     "data": {
      "image/png": "[encoded data removed]",
      "text/plain": [
       "<Figure size 600x600 with 2 Axes>"
      ]
     },
     "metadata": {},
     "output_type": "display_data"
    }
   ],
   "source": [
    "# 3. 이상치 outliers 찾기 - 피처간의 관계 시각화하기\n",
    "# 3.1 상관계수 확인\n",
    "# 어떤 피처의 이상치를 검출할 것인가 -> 레이블과 가장 상관성 높은 피처 위주로 검출\n",
    "\n",
    "plt.figure(figsize=(6,6))\n",
    "corr = card_df.corr()   # 각 피처들간의 상관계수\n",
    "\n",
    "sns.heatmap(corr, cmap='RdBu')\n",
    "plt.show()\n",
    "# 14, 17 음의 상관관계가 가장 높게 나옴"
   ]
  },
  {
   "cell_type": "code",
   "execution_count": 32,
   "id": "05aca809",
   "metadata": {
    "id": "05aca809"
   },
   "outputs": [],
   "source": [
    "# IQR(Interquartile Range): Q3- Q1, 데이터의 중심 50% 범위\n",
    "# 이상치 데이터의 인덱스를 반환하는 함수 outlier index\n",
    "\n",
    "# df=card_df :원래 데이터의 이상치 점검하기\n",
    "# column='V14'\n",
    "def get_outlier(df=None, column=None, weight=1.5):\n",
    "    #  fraud(class==1)에 해당하는 컬럼만 추출, 사분위(Q1,Q3) 지점을 구함\n",
    "    fraud = df[df['Class']==1][column] # 492개 시리즈 나온다\n",
    "    # Q1, Q3 위치의 값\n",
    "    q_25 = np.percentile(fraud.values, 25)\n",
    "    q_75 = np.percentile(fraud.values, 75)\n",
    "    # IQR구해서 1.5 곱하기\n",
    "    iqr = q_75 - q_25\n",
    "    iqr_weight = iqr * weight\n",
    "    low_value = q_25 - iqr_weight   # min : 원래 최소값에 가중치를 더해 더 작게\n",
    "    high_value = q_75 + iqr_weight  # max : 원래 최대값에 가중치를 더해 더 크게\n",
    "    outlier_index = fraud[(fraud < low_value) | (fraud > high_value)].index  # 이 범위에서 벗어난다면 이상치이다.\n",
    "    return outlier_index  #이상치의 인덱스 값"
   ]
  },
  {
   "cell_type": "code",
   "execution_count": 33,
   "id": "c8c5fdc1",
   "metadata": {
    "id": "c8c5fdc1",
    "outputId": "e947b190-8311-4d79-d093-161ce33d9880"
   },
   "outputs": [
    {
     "name": "stdout",
     "output_type": "stream",
     "text": [
      "이상치 데이터의 인덱스 : Index([8296, 8615, 9035, 9252], dtype='int64')\n"
     ]
    }
   ],
   "source": [
    "# 이상치 찾아주는 함수 ==> 데이터에서 제거할 예정\n",
    "outlier_index=get_outlier(df=card_df, column='V14')\n",
    "print(f'이상치 데이터의 인덱스 : {outlier_index}')\n",
    "\n",
    "# 이상치 데이터의 인덱스 : Index([8296, 8615, 9035, 9252], dtype='int64')"
   ]
  },
  {
   "cell_type": "code",
   "execution_count": 34,
   "id": "8a31c187",
   "metadata": {
    "id": "8a31c187",
    "outputId": "d2db63e9-5789-4619-ee5f-12d08c0f07f3"
   },
   "outputs": [
    {
     "name": "stdout",
     "output_type": "stream",
     "text": [
      "q1 : -9.692722964972386, q3 : -4.282820849486865, IQR value : 5.409902115485521\n"
     ]
    }
   ],
   "source": [
    "# 함수에 들어가 있는 Q1, Q3 위치의 값, iqr 확인\n",
    "fraud = card_df[card_df['Class']==1]['V14']\n",
    "q1=np.percentile(fraud.values, 25)\n",
    "q3=np.percentile(fraud.values, 75)\n",
    "iqr = q3-q1\n",
    "print(f'q1 : {q1}, q3 : {q3}, IQR value : {iqr}')"
   ]
  },
  {
   "cell_type": "code",
   "execution_count": 35,
   "id": "2d0522b5",
   "metadata": {},
   "outputs": [],
   "source": [
    "# get_preprocessed_df() 에 이상치 제거 하는 기능 추가\n",
    "# 로그변환, 이상치 제거 추가\n",
    "def get_preprocessed_df(df=None):\n",
    "    df_copy=df.copy()\n",
    "    # Amount feature만 로그변환\n",
    "    amount_n=np.log1p(df_copy['Amount'])\n",
    "    # 로그변환한 피처를 데이터프레임에 삽입(insert)\n",
    "    df_copy.insert(0, 'Amount_Scaled', amount_n)\n",
    "    df_copy.drop(['Time','Amount'],axis=1, inplace=True)\n",
    "    # 이상치 데이터 제거\n",
    "    outlier_index=get_outlier(df=df_copy, column='V14', weight=1.5)\n",
    "    df_copy.drop(outlier_index, axis=0, inplace=True)\n",
    "    return df_copy"
   ]
  },
  {
   "cell_type": "code",
   "execution_count": 36,
   "id": "b9ba5753",
   "metadata": {},
   "outputs": [],
   "source": [
    "# 데이터 분리\n",
    "X_train, X_test, y_train, y_test=get_train_test_dataset(card_df)"
   ]
  },
  {
   "cell_type": "code",
   "execution_count": 37,
   "id": "83a02cb0",
   "metadata": {},
   "outputs": [
    {
     "name": "stdout",
     "output_type": "stream",
     "text": [
      "### 전체데이터 이상치 제거: LR\n",
      "{'오차행렬': [[85281, 14], [48, 98]], '정확도': 0.9993, '정밀도': 0.875, '재현율': 0.6712, 'F1': 0.7597, 'AUC': np.float64(0.9741)}\n",
      "### 전체데이터 이상치 제거: LGBM\n",
      "{'오차행렬': [[85290, 5], [25, 121]], '정확도': 0.9996, '정밀도': 0.9603, '재현율': 0.8288, 'F1': 0.8897, 'AUC': np.float64(0.978)}\n",
      "### 전체데이터 이상치 제거: XGB\n",
      "{'오차행렬': [[85290, 5], [28, 118]], '정확도': 0.9996, '정밀도': 0.9593, '재현율': 0.8082, 'F1': 0.8773, 'AUC': np.float64(0.9809)}\n"
     ]
    }
   ],
   "source": [
    "# 3 이상치 제거\n",
    "\n",
    "print('### 전체데이터 이상치 제거: LR')\n",
    "lr_result = get_model_train_eval(\n",
    "        lr_clf, ftr_train=X_train,\n",
    "        ftr_test=X_test, tgt_train=y_train,tgt_test=y_test)\n",
    "\n",
    "print('### 전체데이터 이상치 제거: LGBM')\n",
    "lgbm_result = get_model_train_eval(\n",
    "        lgbm_clf, ftr_train=X_train,\n",
    "        ftr_test=X_test, tgt_train=y_train,tgt_test=y_test)\n",
    "\n",
    "print('### 전체데이터 이상치 제거: XGB')\n",
    "xgb_result = get_model_train_eval(\n",
    "        xgb_clf, ftr_train=X_train,\n",
    "        ftr_test=X_test, tgt_train=y_train,tgt_test=y_test)\n"
   ]
  },
  {
   "cell_type": "code",
   "execution_count": 38,
   "id": "76b95273",
   "metadata": {},
   "outputs": [],
   "source": [
    "# 3 이상치 제거 결과 저장\n",
    "add_result_dict(lr_metric, lr_result)\n",
    "add_result_dict(lgbm_metric, lgbm_result)\n",
    "add_result_dict(xgb_metric, xgb_result)"
   ]
  },
  {
   "cell_type": "code",
   "execution_count": 39,
   "id": "a6914a00",
   "metadata": {},
   "outputs": [
    {
     "data": {
      "text/plain": [
       "(146,)"
      ]
     },
     "execution_count": 39,
     "metadata": {},
     "output_type": "execute_result"
    }
   ],
   "source": [
    "y_test[y_test == 1].shape"
   ]
  },
  {
   "cell_type": "code",
   "execution_count": 40,
   "id": "1ad8f697",
   "metadata": {},
   "outputs": [
    {
     "data": {
      "text/plain": [
       "(342,)"
      ]
     },
     "execution_count": 40,
     "metadata": {},
     "output_type": "execute_result"
    }
   ],
   "source": [
    "y_idx = y_train[y_train == 1].index\n",
    "y_idx.shape"
   ]
  },
  {
   "cell_type": "code",
   "execution_count": 41,
   "id": "826540bf",
   "metadata": {},
   "outputs": [
    {
     "data": {
      "text/plain": [
       "(342, 29)"
      ]
     },
     "execution_count": 41,
     "metadata": {},
     "output_type": "execute_result"
    }
   ],
   "source": [
    "# 답에서 이상치를 가져와서 데이터에서 골라내기 \n",
    "X_train_selected = X_train.loc[y_idx] \n",
    "X_train_selected.shape"
   ]
  },
  {
   "cell_type": "code",
   "execution_count": 42,
   "id": "ea55893c",
   "metadata": {},
   "outputs": [
    {
     "data": {
      "text/plain": [
       "59539     -3.455197\n",
       "150684    -8.728645\n",
       "153823    -7.383370\n",
       "53591     -4.634631\n",
       "6774      -7.019902\n",
       "            ...    \n",
       "48094     -5.208305\n",
       "106998    -5.591364\n",
       "79874     -1.635145\n",
       "42609    -13.044182\n",
       "146790    -1.016916\n",
       "Name: V14, Length: 342, dtype: float64"
      ]
     },
     "execution_count": 42,
     "metadata": {},
     "output_type": "execute_result"
    }
   ],
   "source": [
    "X_train_selected['V14']"
   ]
  },
  {
   "cell_type": "code",
   "execution_count": 43,
   "id": "9d4574e4",
   "metadata": {},
   "outputs": [
    {
     "name": "stdout",
     "output_type": "stream",
     "text": [
      "q1  -2.450324405773385  q3  0.7459531236627717  iqr  3.1962775294361565\n"
     ]
    }
   ],
   "source": [
    "# 훈련데이터의 Q1, Q3 위치의 값, iqr 확인\n",
    "q1=np.percentile(X_train_selected.values, 25)\n",
    "q3=np.percentile(X_train_selected.values, 75)\n",
    "iqr = q3-q1\n",
    "print('q1 ', q1,' q3 ', q3, ' iqr ', iqr )"
   ]
  },
  {
   "cell_type": "code",
   "execution_count": 44,
   "id": "b61dc00d",
   "metadata": {},
   "outputs": [],
   "source": [
    "# 테스트데이터의 이상치 점검하기\n",
    "# column='V14'\n",
    "def get_outlier(y=None, x=None, column=None, weight=1.5):\n",
    "    #  fraud(class==1)에 해당하는 컬럼만 추출, 사분위(Q1,Q3) 지점을 구함\n",
    "    fraud_y_idx = y[y==1].index # 답에서 이상치를 가져와서 데이터에서 골라내기\n",
    "    fraud_X_selected= x.loc[fraud_y_idx]['V14']\n",
    "    # Q1, Q3 위치의 값\n",
    "    q_25 = np.percentile(fraud_X_selected.values, 25)\n",
    "    q_75 = np.percentile(fraud_X_selected.values, 75)\n",
    "    # IQR구해서 1.5 곱하기\n",
    "    iqr = q_75 - q_25\n",
    "    iqr_weight = iqr * weight\n",
    "    low_value = q_25 - iqr_weight   # min : 원래 최소값에 가중치를 더해 더 작게\n",
    "    high_value = q_75 + iqr_weight  # max : 원래 최대값에 가중치를 더해 더 크게\n",
    "    outlier_index = fraud_X_selected[(fraud_X_selected < low_value) | (fraud_X_selected > high_value)].index  # 이 범위에서 벗어난다면 이상치이다.\n",
    "    return outlier_index  #이상치의 인덱스 값"
   ]
  },
  {
   "cell_type": "code",
   "execution_count": 45,
   "id": "668e1bd5",
   "metadata": {},
   "outputs": [
    {
     "name": "stdout",
     "output_type": "stream",
     "text": [
      "테스트데이터의 이상치 인덱스 : Index([9487, 154286, 9509, 41943], dtype='int64')\n"
     ]
    }
   ],
   "source": [
    "# 이상치 찾아주는 함수 ==> 데이터에서 제거할 예정\n",
    "outlier_index=get_outlier(y=y_train, x=X_train, column='V14')\n",
    "print(f'테스트데이터의 이상치 인덱스 : {outlier_index}')\n",
    "\n",
    "# 원본데이터의 이상치 인덱스 : Index([8296, 8615, 9035, 9252], dtype='int64')"
   ]
  },
  {
   "cell_type": "code",
   "execution_count": 46,
   "id": "7ac14a34",
   "metadata": {
    "id": "7ac14a34"
   },
   "outputs": [],
   "source": [
    "# 로그변환\n",
    "\n",
    "def get_preprocessed_df(df=None):\n",
    "    df_copy=df.copy()\n",
    "    # Amount feature만 로그변환\n",
    "    amount_n=np.log1p(df_copy['Amount'])\n",
    "    # 로그변환한 피처를 데이터프레임에 삽입(insert)\n",
    "    df_copy.insert(0, 'Amount_Scaled', amount_n)\n",
    "    df_copy.drop(['Time','Amount'],axis=1, inplace=True)\n",
    "\n",
    "    return df_copy"
   ]
  },
  {
   "cell_type": "code",
   "execution_count": 47,
   "id": "27d6e164",
   "metadata": {},
   "outputs": [],
   "source": [
    "# 학습/테스트로 분리하는 함수 : 이상치 제거\n",
    "def get_train_test_dataset(df=None):  \n",
    "    df_copy = get_preprocessed_df(df) # Time피쳐 drop, 로그변환\n",
    "    # df_copy 데이터와 레이블 분리\n",
    "    X_features = df_copy.iloc[:, :-1] # 데이터\n",
    "    y_target = df_copy.iloc[:, -1] # 레이블\n",
    "    # 학습/테스트 분리\n",
    "    X_train, X_test, y_train, y_test = train_test_split(\n",
    "        X_features, y_target, test_size=0.3, random_state=0, stratify=y_target)  \n",
    "    # 이상치 데이터 제거\n",
    "    outlier_index=get_outlier(y=y_train, x=X_train, column='V14', weight=1.45)\n",
    "    X_train.drop(outlier_index, axis=0, inplace=True) \n",
    "    y_train.drop(outlier_index, axis=0, inplace=True) \n",
    "\n",
    "    return X_train, X_test, y_train, y_test # 학습/테스트 데이터 반환\n"
   ]
  },
  {
   "cell_type": "code",
   "execution_count": 48,
   "id": "92cab92e",
   "metadata": {},
   "outputs": [],
   "source": [
    "# 데이터 분리\n",
    "X_train, X_test, y_train, y_test = get_train_test_dataset(card_df) # 학습/테스트 분리"
   ]
  },
  {
   "cell_type": "code",
   "execution_count": 49,
   "id": "e3093aee",
   "metadata": {
    "id": "e3093aee",
    "outputId": "d2ee2f3e-68ed-4df3-969a-ad285f5f4736"
   },
   "outputs": [
    {
     "name": "stdout",
     "output_type": "stream",
     "text": [
      "### 이상치 제거: LR\n",
      "{'오차행렬': [[85282, 13], [59, 89]], '정확도': 0.9992, '정밀도': 0.8725, '재현율': 0.6014, 'F1': 0.712, 'AUC': np.float64(0.9712)}\n",
      "### 이상치 제거: LGBM\n",
      "{'오차행렬': [[85291, 4], [38, 110]], '정확도': 0.9995, '정밀도': 0.9649, '재현율': 0.7432, 'F1': 0.8397, 'AUC': np.float64(0.9794)}\n",
      "### 이상치 제거: XGB\n",
      "{'오차행렬': [[85289, 6], [40, 108]], '정확도': 0.9995, '정밀도': 0.9474, '재현율': 0.7297, 'F1': 0.8244, 'AUC': np.float64(0.9803)}\n"
     ]
    }
   ],
   "source": [
    "# 3 이상치 제거\n",
    "\n",
    "print('### 이상치 제거: LR')\n",
    "lr_result = get_model_train_eval(\n",
    "        lr_clf, ftr_train=X_train,\n",
    "        ftr_test=X_test, tgt_train=y_train,tgt_test=y_test)\n",
    "\n",
    "print('### 이상치 제거: LGBM')\n",
    "lgbm_result = get_model_train_eval(\n",
    "        lgbm_clf, ftr_train=X_train,\n",
    "        ftr_test=X_test, tgt_train=y_train,tgt_test=y_test)\n",
    "\n",
    "print('### 이상치 제거: XGB')\n",
    "xgb_result = get_model_train_eval(\n",
    "        xgb_clf, ftr_train=X_train,\n",
    "        ftr_test=X_test, tgt_train=y_train,tgt_test=y_test)\n"
   ]
  },
  {
   "cell_type": "code",
   "execution_count": 50,
   "id": "2edc89c1",
   "metadata": {},
   "outputs": [],
   "source": [
    "# 3 이상치 제거 결과 저장\n",
    "add_result_dict(lr_metric, lr_result)\n",
    "add_result_dict(lgbm_metric, lgbm_result)\n",
    "add_result_dict(xgb_metric, xgb_result)"
   ]
  },
  {
   "cell_type": "markdown",
   "id": "51a22891",
   "metadata": {
    "id": "51a22891"
   },
   "source": [
    "### 4 . 오버샘플링"
   ]
  },
  {
   "cell_type": "code",
   "execution_count": 51,
   "id": "4f4dfb99",
   "metadata": {
    "id": "4f4dfb99",
    "outputId": "0200ccbf-0cf2-40ae-bc1d-bf416f13d7d8"
   },
   "outputs": [
    {
     "name": "stdout",
     "output_type": "stream",
     "text": [
      "SMOTE 적용전 학습용 피처/레이블 구조:  (199360, 29) (199360,)\n",
      "SMOTE 적용후 학습 피처/레이블 구조:  (398040, 29) (398040,)\n",
      "SMOTE 적용전 레이블값 분포:  Class\n",
      "0    199020\n",
      "1       340\n",
      "Name: count, dtype: int64\n",
      "SMOTE 적용후 레이블값 분포:  Class\n",
      "0    199020\n",
      "1    199020\n",
      "Name: count, dtype: int64\n"
     ]
    }
   ],
   "source": [
    "# 4 . 오버샘플링 SMOTE 적용후 데이터 확인하기: 원본데이터 변화 확인\n",
    "# SMOTE는 불균형 데이터셋에서 기존 분포를 기본으로 소수 클래스를 가상으로 생성하여 균형을 맞춰준다.\n",
    "\n",
    "smote=SMOTE(random_state=0)\n",
    "X_train_over, y_train_over = smote.fit_resample(X_train,y_train)\n",
    "\n",
    "print('SMOTE 적용전 학습용 피처/레이블 구조: ' , X_train.shape, y_train.shape)\n",
    "print('SMOTE 적용후 학습 피처/레이블 구조: ' , X_train_over.shape, y_train_over.shape)\n",
    "\n",
    "print('SMOTE 적용전 레이블값 분포: ' , pd.Series(y_train).value_counts())\n",
    "print('SMOTE 적용후 레이블값 분포: ' , pd.Series(y_train_over).value_counts())\n"
   ]
  },
  {
   "cell_type": "code",
   "execution_count": 52,
   "id": "0d2a95f2",
   "metadata": {
    "id": "0d2a95f2",
    "outputId": "6478ba84-bba9-4568-8b68-81fc542bf051"
   },
   "outputs": [
    {
     "name": "stdout",
     "output_type": "stream",
     "text": [
      "SMOTE 적용전 학습용 피처/레이블 구조:  (199360, 29) (199360,)\n",
      "SMOTE 적용후 학습 피처/레이블 구조:  (298530, 29) (298530,)\n",
      "SMOTE 적용전 레이블값 분포:  Class\n",
      "0    199020\n",
      "1       340\n",
      "Name: count, dtype: int64\n",
      "SMOTE 적용후 레이블값 분포:  Class\n",
      "0    199020\n",
      "1     99510\n",
      "Name: count, dtype: int64\n"
     ]
    }
   ],
   "source": [
    "# 4.2  오버샘플링 SMOTE : 비율 조정 : 이상거래를 50% 수준으로 변경\n",
    "\n",
    "smote=SMOTE(random_state=0, sampling_strategy=0.5)\n",
    "X_train_over, y_train_over = smote.fit_resample(X_train,y_train)\n",
    "\n",
    "print('SMOTE 적용전 학습용 피처/레이블 구조: ' , X_train.shape, y_train.shape)\n",
    "print('SMOTE 적용후 학습 피처/레이블 구조: ' , X_train_over.shape, y_train_over.shape)\n",
    "print('SMOTE 적용전 레이블값 분포: ' , pd.Series(y_train).value_counts())\n",
    "print('SMOTE 적용후 레이블값 분포: ' , pd.Series(y_train_over).value_counts())\n"
   ]
  },
  {
   "cell_type": "code",
   "execution_count": 53,
   "id": "e8e9123e",
   "metadata": {},
   "outputs": [],
   "source": [
    "# 로그변환\n",
    "\n",
    "def get_preprocessed_df(df=None):\n",
    "    df_copy=df.copy()\n",
    "    # Amount feature만 로그변환\n",
    "    amount_n=np.log1p(df_copy['Amount'])\n",
    "    # 로그변환한 피처를 데이터프레임에 삽입(insert)\n",
    "    df_copy.insert(0, 'Amount_Scaled', amount_n)\n",
    "    df_copy.drop(['Time','Amount'],axis=1, inplace=True)\n",
    "\n",
    "    return df_copy"
   ]
  },
  {
   "cell_type": "code",
   "execution_count": 54,
   "id": "478b1c1f",
   "metadata": {},
   "outputs": [],
   "source": [
    "# 학습/테스트로 분리하는 함수 : 이상치 제거 : 오버샘플링 (sampling_strategy=0.8)\n",
    "def get_train_test_dataset(df=None):  \n",
    "    df_copy = get_preprocessed_df(df) # Time피쳐 drop, 로그변환\n",
    "    # df_copy 데이터와 레이블 분리\n",
    "    X_features = df_copy.iloc[:, :-1] # 데이터\n",
    "    y_target = df_copy.iloc[:, -1] # 레이블\n",
    "    # 학습/테스트 분리\n",
    "    X_train, X_test, y_train, y_test = train_test_split(\n",
    "        X_features, y_target, test_size=0.3, random_state=0, stratify=y_target)  \n",
    "    # 이상치 데이터 제거\n",
    "    outlier_index=get_outlier(y=y_train, x=X_train, column='V14', weight=1.45)\n",
    "    X_train.drop(outlier_index, axis=0, inplace=True) \n",
    "    y_train.drop(outlier_index, axis=0, inplace=True) \n",
    "    # 오버샘플링 SMOTE 적용\n",
    "    smote=SMOTE(random_state=0, sampling_strategy=0.8)\n",
    "    X_train, y_train = smote.fit_resample(X_train, y_train)\n",
    "    return X_train, X_test, y_train, y_test # 학습/테스트 데이터 반환\n"
   ]
  },
  {
   "cell_type": "code",
   "execution_count": 55,
   "id": "1332b3a0",
   "metadata": {},
   "outputs": [],
   "source": [
    "# 데이터 분리\n",
    "X_train, X_test, y_train, y_test = get_train_test_dataset(card_df) # 학습/테스트 분리"
   ]
  },
  {
   "cell_type": "code",
   "execution_count": 56,
   "id": "4545e637",
   "metadata": {
    "id": "4545e637",
    "outputId": "0ecc4439-c645-44cb-dfd8-2d81249e6a59"
   },
   "outputs": [
    {
     "name": "stdout",
     "output_type": "stream",
     "text": [
      "### SMOTE : LR\n",
      "{'오차행렬': [[83768, 1527], [15, 133]], '정확도': 0.982, '정밀도': 0.0801, '재현율': 0.8986, 'F1': 0.1471, 'AUC': np.float64(0.9802)}\n",
      "### SMOTE : LGBM\n",
      "{'오차행렬': [[85284, 11], [32, 116]], '정확도': 0.9995, '정밀도': 0.9134, '재현율': 0.7838, 'F1': 0.8436, 'AUC': np.float64(0.9853)}\n",
      "### SMOTE : XGB\n",
      "{'오차행렬': [[85258, 37], [30, 118]], '정확도': 0.9992, '정밀도': 0.7613, '재현율': 0.7973, 'F1': 0.7789, 'AUC': np.float64(0.9759)}\n"
     ]
    }
   ],
   "source": [
    "# lr\n",
    "print('### SMOTE : LR')\n",
    "lr_result = get_model_train_eval(\n",
    "    lr_clf,\n",
    "    ftr_train=X_train,\n",
    "    ftr_test=X_test,\n",
    "    tgt_train=y_train,\n",
    "    tgt_test=y_test\n",
    ")\n",
    "\n",
    "# lgbm\n",
    "\n",
    "print('### SMOTE : LGBM')\n",
    "lgbm_result = get_model_train_eval(\n",
    "    lgbm_clf,\n",
    "    ftr_train=X_train,\n",
    "    ftr_test=X_test,\n",
    "    tgt_train=y_train,\n",
    "    tgt_test=y_test\n",
    ")\n",
    "\n",
    "# XGB\n",
    "\n",
    "print('### SMOTE : XGB')\n",
    "xgb_result = get_model_train_eval(\n",
    "    xgb_clf,\n",
    "    ftr_train=X_train,\n",
    "    ftr_test=X_test,\n",
    "    tgt_train=y_train,\n",
    "    tgt_test=y_test\n",
    ")\n",
    "\n"
   ]
  },
  {
   "cell_type": "code",
   "execution_count": 57,
   "id": "5cd495e4",
   "metadata": {},
   "outputs": [],
   "source": [
    "# 3 이상치 제거 결과 저장\n",
    "add_result_dict(lr_metric, lr_result)\n",
    "add_result_dict(lgbm_metric, lgbm_result)\n",
    "add_result_dict(xgb_metric, xgb_result)"
   ]
  },
  {
   "cell_type": "code",
   "execution_count": 58,
   "id": "b7a204a7",
   "metadata": {},
   "outputs": [],
   "source": [
    "# 학습/테스트로 분리하는 함수 : 이상치 제거 : 오버샘플링 (sampling_strategy=0.3)\n",
    "def get_train_test_dataset(df=None):  \n",
    "    df_copy = get_preprocessed_df(df) # Time피쳐 drop, 로그변환\n",
    "    # df_copy 데이터와 레이블 분리\n",
    "    X_features = df_copy.iloc[:, :-1] # 데이터\n",
    "    y_target = df_copy.iloc[:, -1] # 레이블\n",
    "    # 학습/테스트 분리\n",
    "    X_train, X_test, y_train, y_test = train_test_split(\n",
    "        X_features, y_target, test_size=0.3, random_state=0, stratify=y_target)  \n",
    "    # 이상치 데이터 제거\n",
    "    outlier_index=get_outlier(y=y_train, x=X_train, column='V14', weight=1.45)\n",
    "    X_train.drop(outlier_index, axis=0, inplace=True) \n",
    "    y_train.drop(outlier_index, axis=0, inplace=True) \n",
    "    # 오버샘플링 SMOTE 적용\n",
    "    smote=SMOTE(random_state=0, sampling_strategy=0.3)\n",
    "    X_train, y_train = smote.fit_resample(X_train, y_train)\n",
    "    return X_train, X_test, y_train, y_test # 학습/테스트 데이터 반환\n"
   ]
  },
  {
   "cell_type": "code",
   "execution_count": 59,
   "id": "10285d7b",
   "metadata": {},
   "outputs": [],
   "source": [
    "# 데이터 분리\n",
    "X_train, X_test, y_train, y_test = get_train_test_dataset(card_df) # 학습/테스트 분리"
   ]
  },
  {
   "cell_type": "code",
   "execution_count": 60,
   "id": "1cca9506",
   "metadata": {},
   "outputs": [
    {
     "name": "stdout",
     "output_type": "stream",
     "text": [
      "### SMOTE(조정) : LR\n",
      "{'오차행렬': [[84707, 588], [21, 127]], '정확도': 0.9929, '정밀도': 0.1776, '재현율': 0.8581, 'F1': 0.2943, 'AUC': np.float64(0.9812)}\n",
      "### SMOTE(조정) : LGBM\n",
      "{'오차행렬': [[85283, 12], [31, 117]], '정확도': 0.9995, '정밀도': 0.907, '재현율': 0.7905, 'F1': 0.8448, 'AUC': np.float64(0.9837)}\n",
      "### SMOTE(조정) : XGB\n",
      "{'오차행렬': [[85278, 17], [32, 116]], '정확도': 0.9994, '정밀도': 0.8722, '재현율': 0.7838, 'F1': 0.8256, 'AUC': np.float64(0.9777)}\n"
     ]
    }
   ],
   "source": [
    "# lr\n",
    "print('### SMOTE(조정) : LR')\n",
    "lr_result = get_model_train_eval(\n",
    "    lr_clf,\n",
    "    ftr_train=X_train,\n",
    "    ftr_test=X_test,\n",
    "    tgt_train=y_train,\n",
    "    tgt_test=y_test\n",
    ")\n",
    "\n",
    "# lgbm\n",
    "\n",
    "print('### SMOTE(조정) : LGBM')\n",
    "lgbm_result = get_model_train_eval(\n",
    "    lgbm_clf,\n",
    "    ftr_train=X_train,\n",
    "    ftr_test=X_test,\n",
    "    tgt_train=y_train,\n",
    "    tgt_test=y_test\n",
    ")\n",
    "\n",
    "# XGB\n",
    "print('### SMOTE(조정) : XGB')\n",
    "xgb_result = get_model_train_eval(\n",
    "    xgb_clf,\n",
    "    ftr_train=X_train,\n",
    "    ftr_test=X_test,\n",
    "    tgt_train=y_train,\n",
    "    tgt_test=y_test\n",
    ")\n",
    "\n"
   ]
  },
  {
   "cell_type": "code",
   "execution_count": 61,
   "id": "7d5f45ca",
   "metadata": {},
   "outputs": [],
   "source": [
    "# 4 이상치 제거 결과 저장\n",
    "add_result_dict(lr_metric, lr_result)\n",
    "add_result_dict(lgbm_metric, lgbm_result)\n",
    "add_result_dict(xgb_metric, xgb_result)"
   ]
  },
  {
   "cell_type": "markdown",
   "id": "d9cd5f68",
   "metadata": {
    "id": "d9cd5f68"
   },
   "source": [
    "전처리별 데이터 프레임으로 저장"
   ]
  },
  {
   "cell_type": "code",
   "execution_count": 62,
   "id": "9aea13b2",
   "metadata": {
    "id": "9aea13b2",
    "outputId": "7379fd15-b1d3-4c2a-b101-980075d5137b"
   },
   "outputs": [
    {
     "data": {
      "text/plain": [
       "({'TN': [85281, 85283, 85281, 85282, 83768, 84707],\n",
       "  'FP': [14, 12, 14, 13, 1527, 588],\n",
       "  'FN': [56, 59, 48, 59, 15, 21],\n",
       "  'TP': [92, 89, 98, 89, 133, 127],\n",
       "  '정확도': [0.9992, 0.9992, 0.9993, 0.9992, 0.982, 0.9929],\n",
       "  '정밀도': [0.8679, 0.8812, 0.875, 0.8725, 0.0801, 0.1776],\n",
       "  '재현율': [0.6216, 0.6014, 0.6712, 0.6014, 0.8986, 0.8581],\n",
       "  'F1': [0.7244, 0.7149, 0.7597, 0.712, 0.1471, 0.2943],\n",
       "  'AUC': [np.float64(0.9699),\n",
       "   np.float64(0.9723),\n",
       "   np.float64(0.9741),\n",
       "   np.float64(0.9712),\n",
       "   np.float64(0.9802),\n",
       "   np.float64(0.9812)]},\n",
       " {'TN': [85290, 85290, 85290, 85291, 85284, 85283],\n",
       "  'FP': [5, 5, 5, 4, 11, 12],\n",
       "  'FN': [36, 35, 25, 38, 32, 31],\n",
       "  'TP': [112, 113, 121, 110, 116, 117],\n",
       "  '정확도': [0.9995, 0.9995, 0.9996, 0.9995, 0.9995, 0.9995],\n",
       "  '정밀도': [0.9573, 0.9576, 0.9603, 0.9649, 0.9134, 0.907],\n",
       "  '재현율': [0.7568, 0.7635, 0.8288, 0.7432, 0.7838, 0.7905],\n",
       "  'F1': [0.8453, 0.8496, 0.8897, 0.8397, 0.8436, 0.8448],\n",
       "  'AUC': [np.float64(0.979),\n",
       "   np.float64(0.9796),\n",
       "   np.float64(0.978),\n",
       "   np.float64(0.9794),\n",
       "   np.float64(0.9853),\n",
       "   np.float64(0.9837)]},\n",
       " {'TN': [85289, 85289, 85290, 85289, 85258, 85278],\n",
       "  'FP': [6, 6, 5, 6, 37, 17],\n",
       "  'FN': [39, 39, 28, 40, 30, 32],\n",
       "  'TP': [109, 109, 118, 108, 118, 116],\n",
       "  '정확도': [0.9995, 0.9995, 0.9996, 0.9995, 0.9992, 0.9994],\n",
       "  '정밀도': [0.9478, 0.9478, 0.9593, 0.9474, 0.7613, 0.8722],\n",
       "  '재현율': [0.7365, 0.7365, 0.8082, 0.7297, 0.7973, 0.7838],\n",
       "  'F1': [0.8289, 0.8289, 0.8773, 0.8244, 0.7789, 0.8256],\n",
       "  'AUC': [np.float64(0.9798),\n",
       "   np.float64(0.9798),\n",
       "   np.float64(0.9809),\n",
       "   np.float64(0.9803),\n",
       "   np.float64(0.9759),\n",
       "   np.float64(0.9777)]})"
      ]
     },
     "execution_count": 62,
     "metadata": {},
     "output_type": "execute_result"
    }
   ],
   "source": [
    "lr_metric, lgbm_metric, xgb_metric"
   ]
  },
  {
   "cell_type": "code",
   "execution_count": 63,
   "id": "2a9335dd",
   "metadata": {
    "id": "2a9335dd"
   },
   "outputs": [],
   "source": [
    "# 한글 설정\n",
    "plt.rcParams['font.family'] = 'Malgun Gothic'\n",
    "\n",
    "stages = ['원본 데이터', '로그 변환', '전체데이터의 이상치 제거', '훈련데이터의 이상치 제거', 'SMOTE 적용', 'SMOTE 적용 2']"
   ]
  },
  {
   "cell_type": "code",
   "execution_count": 64,
   "id": "f2a8bb0c",
   "metadata": {
    "id": "f2a8bb0c",
    "outputId": "e3069861-0c79-414a-bca5-82dec9208e9d"
   },
   "outputs": [
    {
     "data": {
      "text/html": [
       "<div>\n",
       "<style scoped>\n",
       "    .dataframe tbody tr th:only-of-type {\n",
       "        vertical-align: middle;\n",
       "    }\n",
       "\n",
       "    .dataframe tbody tr th {\n",
       "        vertical-align: top;\n",
       "    }\n",
       "\n",
       "    .dataframe thead th {\n",
       "        text-align: right;\n",
       "    }\n",
       "</style>\n",
       "<table border=\"1\" class=\"dataframe\">\n",
       "  <thead>\n",
       "    <tr style=\"text-align: right;\">\n",
       "      <th></th>\n",
       "      <th>TN</th>\n",
       "      <th>FP</th>\n",
       "      <th>FN</th>\n",
       "      <th>TP</th>\n",
       "      <th>정확도</th>\n",
       "      <th>정밀도</th>\n",
       "      <th>재현율</th>\n",
       "      <th>F1</th>\n",
       "      <th>AUC</th>\n",
       "    </tr>\n",
       "    <tr>\n",
       "      <th>원본 데이터</th>\n",
       "      <th></th>\n",
       "      <th></th>\n",
       "      <th></th>\n",
       "      <th></th>\n",
       "      <th></th>\n",
       "      <th></th>\n",
       "      <th></th>\n",
       "      <th></th>\n",
       "      <th></th>\n",
       "    </tr>\n",
       "  </thead>\n",
       "  <tbody>\n",
       "    <tr>\n",
       "      <th>Logistic Regression</th>\n",
       "      <td>85281</td>\n",
       "      <td>14</td>\n",
       "      <td>56</td>\n",
       "      <td>92</td>\n",
       "      <td>0.9992</td>\n",
       "      <td>0.8679</td>\n",
       "      <td>0.6216</td>\n",
       "      <td>0.7244</td>\n",
       "      <td>0.9699</td>\n",
       "    </tr>\n",
       "    <tr>\n",
       "      <th>LGBM</th>\n",
       "      <td>85290</td>\n",
       "      <td>5</td>\n",
       "      <td>36</td>\n",
       "      <td>112</td>\n",
       "      <td>0.9995</td>\n",
       "      <td>0.9573</td>\n",
       "      <td>0.7568</td>\n",
       "      <td>0.8453</td>\n",
       "      <td>0.9790</td>\n",
       "    </tr>\n",
       "    <tr>\n",
       "      <th>XGBoost</th>\n",
       "      <td>85289</td>\n",
       "      <td>6</td>\n",
       "      <td>39</td>\n",
       "      <td>109</td>\n",
       "      <td>0.9995</td>\n",
       "      <td>0.9478</td>\n",
       "      <td>0.7365</td>\n",
       "      <td>0.8289</td>\n",
       "      <td>0.9798</td>\n",
       "    </tr>\n",
       "  </tbody>\n",
       "</table>\n",
       "</div>"
      ],
      "text/plain": [
       "                        TN  FP  FN   TP     정확도     정밀도     재현율      F1  \\\n",
       "원본 데이터                                                                    \n",
       "Logistic Regression  85281  14  56   92  0.9992  0.8679  0.6216  0.7244   \n",
       "LGBM                 85290   5  36  112  0.9995  0.9573  0.7568  0.8453   \n",
       "XGBoost              85289   6  39  109  0.9995  0.9478  0.7365  0.8289   \n",
       "\n",
       "                        AUC  \n",
       "원본 데이터                       \n",
       "Logistic Regression  0.9699  \n",
       "LGBM                 0.9790  \n",
       "XGBoost              0.9798  "
      ]
     },
     "execution_count": 64,
     "metadata": {},
     "output_type": "execute_result"
    }
   ],
   "source": [
    "dfs = []\n",
    "for i in range(len(stages)):  # 각 단계별로 데이터프레임 생성\n",
    "    df = pd.DataFrame({\n",
    "            # '모델': ['Logistic Regression', 'LGBM', 'XGBoost'],\n",
    "            'TN': [lr_metric['TN'][i], lgbm_metric['TN'][i], xgb_metric['TN'][i]],\n",
    "            'FP': [lr_metric['FP'][i], lgbm_metric['FP'][i], xgb_metric['FP'][i]],\n",
    "            'FN': [lr_metric['FN'][i], lgbm_metric['FN'][i], xgb_metric['FN'][i]],\n",
    "            'TP': [lr_metric['TP'][i], lgbm_metric['TP'][i], xgb_metric['TP'][i]],\n",
    "            '정확도': [lr_metric['정확도'][i], lgbm_metric['정확도'][i], xgb_metric['정확도'][i]],\n",
    "            '정밀도': [lr_metric['정밀도'][i], lgbm_metric['정밀도'][i], xgb_metric['정밀도'][i]],\n",
    "            '재현율': [lr_metric['재현율'][i], lgbm_metric['재현율'][i], xgb_metric['재현율'][i]],\n",
    "            'F1': [lr_metric['F1'][i], lgbm_metric['F1'][i], xgb_metric['F1'][i]],\n",
    "            'AUC': [lr_metric['AUC'][i], lgbm_metric['AUC'][i], xgb_metric['AUC'][i]]\n",
    "    }, index=['Logistic Regression', 'LGBM', 'XGBoost'])\n",
    "    df.index.name = stages[i]  # 인덱스 이름 설정 (전처리 단계)\n",
    "    dfs.append(df)\n",
    "\n",
    "dfs[0]"
   ]
  },
  {
   "cell_type": "code",
   "execution_count": 65,
   "id": "dee5c453",
   "metadata": {
    "id": "dee5c453",
    "outputId": "48c51821-2167-49ea-b6b5-871e3dfe9abc"
   },
   "outputs": [
    {
     "data": {
      "text/html": [
       "<div>\n",
       "<style scoped>\n",
       "    .dataframe tbody tr th:only-of-type {\n",
       "        vertical-align: middle;\n",
       "    }\n",
       "\n",
       "    .dataframe tbody tr th {\n",
       "        vertical-align: top;\n",
       "    }\n",
       "\n",
       "    .dataframe thead th {\n",
       "        text-align: right;\n",
       "    }\n",
       "</style>\n",
       "<table border=\"1\" class=\"dataframe\">\n",
       "  <thead>\n",
       "    <tr style=\"text-align: right;\">\n",
       "      <th></th>\n",
       "      <th>TN</th>\n",
       "      <th>FP</th>\n",
       "      <th>FN</th>\n",
       "      <th>TP</th>\n",
       "      <th>정확도</th>\n",
       "      <th>정밀도</th>\n",
       "      <th>재현율</th>\n",
       "      <th>F1</th>\n",
       "      <th>AUC</th>\n",
       "    </tr>\n",
       "    <tr>\n",
       "      <th>로그 변환</th>\n",
       "      <th></th>\n",
       "      <th></th>\n",
       "      <th></th>\n",
       "      <th></th>\n",
       "      <th></th>\n",
       "      <th></th>\n",
       "      <th></th>\n",
       "      <th></th>\n",
       "      <th></th>\n",
       "    </tr>\n",
       "  </thead>\n",
       "  <tbody>\n",
       "    <tr>\n",
       "      <th>Logistic Regression</th>\n",
       "      <td>85283</td>\n",
       "      <td>12</td>\n",
       "      <td>59</td>\n",
       "      <td>89</td>\n",
       "      <td>0.9992</td>\n",
       "      <td>0.8812</td>\n",
       "      <td>0.6014</td>\n",
       "      <td>0.7149</td>\n",
       "      <td>0.9723</td>\n",
       "    </tr>\n",
       "    <tr>\n",
       "      <th>LGBM</th>\n",
       "      <td>85290</td>\n",
       "      <td>5</td>\n",
       "      <td>35</td>\n",
       "      <td>113</td>\n",
       "      <td>0.9995</td>\n",
       "      <td>0.9576</td>\n",
       "      <td>0.7635</td>\n",
       "      <td>0.8496</td>\n",
       "      <td>0.9796</td>\n",
       "    </tr>\n",
       "    <tr>\n",
       "      <th>XGBoost</th>\n",
       "      <td>85289</td>\n",
       "      <td>6</td>\n",
       "      <td>39</td>\n",
       "      <td>109</td>\n",
       "      <td>0.9995</td>\n",
       "      <td>0.9478</td>\n",
       "      <td>0.7365</td>\n",
       "      <td>0.8289</td>\n",
       "      <td>0.9798</td>\n",
       "    </tr>\n",
       "  </tbody>\n",
       "</table>\n",
       "</div>"
      ],
      "text/plain": [
       "                        TN  FP  FN   TP     정확도     정밀도     재현율      F1  \\\n",
       "로그 변환                                                                     \n",
       "Logistic Regression  85283  12  59   89  0.9992  0.8812  0.6014  0.7149   \n",
       "LGBM                 85290   5  35  113  0.9995  0.9576  0.7635  0.8496   \n",
       "XGBoost              85289   6  39  109  0.9995  0.9478  0.7365  0.8289   \n",
       "\n",
       "                        AUC  \n",
       "로그 변환                        \n",
       "Logistic Regression  0.9723  \n",
       "LGBM                 0.9796  \n",
       "XGBoost              0.9798  "
      ]
     },
     "execution_count": 65,
     "metadata": {},
     "output_type": "execute_result"
    }
   ],
   "source": [
    "dfs[1]"
   ]
  },
  {
   "cell_type": "code",
   "execution_count": 66,
   "id": "4fd3c6f0",
   "metadata": {
    "id": "4fd3c6f0",
    "outputId": "dbca1643-b233-408e-830f-e3546363a1b4"
   },
   "outputs": [
    {
     "data": {
      "text/html": [
       "<div>\n",
       "<style scoped>\n",
       "    .dataframe tbody tr th:only-of-type {\n",
       "        vertical-align: middle;\n",
       "    }\n",
       "\n",
       "    .dataframe tbody tr th {\n",
       "        vertical-align: top;\n",
       "    }\n",
       "\n",
       "    .dataframe thead th {\n",
       "        text-align: right;\n",
       "    }\n",
       "</style>\n",
       "<table border=\"1\" class=\"dataframe\">\n",
       "  <thead>\n",
       "    <tr style=\"text-align: right;\">\n",
       "      <th></th>\n",
       "      <th>TN</th>\n",
       "      <th>FP</th>\n",
       "      <th>FN</th>\n",
       "      <th>TP</th>\n",
       "      <th>정확도</th>\n",
       "      <th>정밀도</th>\n",
       "      <th>재현율</th>\n",
       "      <th>F1</th>\n",
       "      <th>AUC</th>\n",
       "    </tr>\n",
       "    <tr>\n",
       "      <th>전체데이터의 이상치 제거</th>\n",
       "      <th></th>\n",
       "      <th></th>\n",
       "      <th></th>\n",
       "      <th></th>\n",
       "      <th></th>\n",
       "      <th></th>\n",
       "      <th></th>\n",
       "      <th></th>\n",
       "      <th></th>\n",
       "    </tr>\n",
       "  </thead>\n",
       "  <tbody>\n",
       "    <tr>\n",
       "      <th>Logistic Regression</th>\n",
       "      <td>85281</td>\n",
       "      <td>14</td>\n",
       "      <td>48</td>\n",
       "      <td>98</td>\n",
       "      <td>0.9993</td>\n",
       "      <td>0.8750</td>\n",
       "      <td>0.6712</td>\n",
       "      <td>0.7597</td>\n",
       "      <td>0.9741</td>\n",
       "    </tr>\n",
       "    <tr>\n",
       "      <th>LGBM</th>\n",
       "      <td>85290</td>\n",
       "      <td>5</td>\n",
       "      <td>25</td>\n",
       "      <td>121</td>\n",
       "      <td>0.9996</td>\n",
       "      <td>0.9603</td>\n",
       "      <td>0.8288</td>\n",
       "      <td>0.8897</td>\n",
       "      <td>0.9780</td>\n",
       "    </tr>\n",
       "    <tr>\n",
       "      <th>XGBoost</th>\n",
       "      <td>85290</td>\n",
       "      <td>5</td>\n",
       "      <td>28</td>\n",
       "      <td>118</td>\n",
       "      <td>0.9996</td>\n",
       "      <td>0.9593</td>\n",
       "      <td>0.8082</td>\n",
       "      <td>0.8773</td>\n",
       "      <td>0.9809</td>\n",
       "    </tr>\n",
       "  </tbody>\n",
       "</table>\n",
       "</div>"
      ],
      "text/plain": [
       "                        TN  FP  FN   TP     정확도     정밀도     재현율      F1  \\\n",
       "전체데이터의 이상치 제거                                                             \n",
       "Logistic Regression  85281  14  48   98  0.9993  0.8750  0.6712  0.7597   \n",
       "LGBM                 85290   5  25  121  0.9996  0.9603  0.8288  0.8897   \n",
       "XGBoost              85290   5  28  118  0.9996  0.9593  0.8082  0.8773   \n",
       "\n",
       "                        AUC  \n",
       "전체데이터의 이상치 제거                \n",
       "Logistic Regression  0.9741  \n",
       "LGBM                 0.9780  \n",
       "XGBoost              0.9809  "
      ]
     },
     "execution_count": 66,
     "metadata": {},
     "output_type": "execute_result"
    }
   ],
   "source": [
    "dfs[2]"
   ]
  },
  {
   "cell_type": "code",
   "execution_count": 67,
   "id": "8b1e1f53",
   "metadata": {
    "id": "8b1e1f53",
    "outputId": "8fff172a-e801-465c-8d1d-fdfe764ccb17"
   },
   "outputs": [
    {
     "data": {
      "text/html": [
       "<div>\n",
       "<style scoped>\n",
       "    .dataframe tbody tr th:only-of-type {\n",
       "        vertical-align: middle;\n",
       "    }\n",
       "\n",
       "    .dataframe tbody tr th {\n",
       "        vertical-align: top;\n",
       "    }\n",
       "\n",
       "    .dataframe thead th {\n",
       "        text-align: right;\n",
       "    }\n",
       "</style>\n",
       "<table border=\"1\" class=\"dataframe\">\n",
       "  <thead>\n",
       "    <tr style=\"text-align: right;\">\n",
       "      <th></th>\n",
       "      <th>TN</th>\n",
       "      <th>FP</th>\n",
       "      <th>FN</th>\n",
       "      <th>TP</th>\n",
       "      <th>정확도</th>\n",
       "      <th>정밀도</th>\n",
       "      <th>재현율</th>\n",
       "      <th>F1</th>\n",
       "      <th>AUC</th>\n",
       "    </tr>\n",
       "    <tr>\n",
       "      <th>훈련데이터의 이상치 제거</th>\n",
       "      <th></th>\n",
       "      <th></th>\n",
       "      <th></th>\n",
       "      <th></th>\n",
       "      <th></th>\n",
       "      <th></th>\n",
       "      <th></th>\n",
       "      <th></th>\n",
       "      <th></th>\n",
       "    </tr>\n",
       "  </thead>\n",
       "  <tbody>\n",
       "    <tr>\n",
       "      <th>Logistic Regression</th>\n",
       "      <td>85282</td>\n",
       "      <td>13</td>\n",
       "      <td>59</td>\n",
       "      <td>89</td>\n",
       "      <td>0.9992</td>\n",
       "      <td>0.8725</td>\n",
       "      <td>0.6014</td>\n",
       "      <td>0.7120</td>\n",
       "      <td>0.9712</td>\n",
       "    </tr>\n",
       "    <tr>\n",
       "      <th>LGBM</th>\n",
       "      <td>85291</td>\n",
       "      <td>4</td>\n",
       "      <td>38</td>\n",
       "      <td>110</td>\n",
       "      <td>0.9995</td>\n",
       "      <td>0.9649</td>\n",
       "      <td>0.7432</td>\n",
       "      <td>0.8397</td>\n",
       "      <td>0.9794</td>\n",
       "    </tr>\n",
       "    <tr>\n",
       "      <th>XGBoost</th>\n",
       "      <td>85289</td>\n",
       "      <td>6</td>\n",
       "      <td>40</td>\n",
       "      <td>108</td>\n",
       "      <td>0.9995</td>\n",
       "      <td>0.9474</td>\n",
       "      <td>0.7297</td>\n",
       "      <td>0.8244</td>\n",
       "      <td>0.9803</td>\n",
       "    </tr>\n",
       "  </tbody>\n",
       "</table>\n",
       "</div>"
      ],
      "text/plain": [
       "                        TN  FP  FN   TP     정확도     정밀도     재현율      F1  \\\n",
       "훈련데이터의 이상치 제거                                                             \n",
       "Logistic Regression  85282  13  59   89  0.9992  0.8725  0.6014  0.7120   \n",
       "LGBM                 85291   4  38  110  0.9995  0.9649  0.7432  0.8397   \n",
       "XGBoost              85289   6  40  108  0.9995  0.9474  0.7297  0.8244   \n",
       "\n",
       "                        AUC  \n",
       "훈련데이터의 이상치 제거                \n",
       "Logistic Regression  0.9712  \n",
       "LGBM                 0.9794  \n",
       "XGBoost              0.9803  "
      ]
     },
     "execution_count": 67,
     "metadata": {},
     "output_type": "execute_result"
    }
   ],
   "source": [
    "dfs[3]"
   ]
  },
  {
   "cell_type": "code",
   "execution_count": 68,
   "id": "6ba76ed8",
   "metadata": {
    "id": "6ba76ed8",
    "outputId": "74a10020-23f9-4964-cf8e-716e7c5231e1"
   },
   "outputs": [
    {
     "data": {
      "text/html": [
       "<div>\n",
       "<style scoped>\n",
       "    .dataframe tbody tr th:only-of-type {\n",
       "        vertical-align: middle;\n",
       "    }\n",
       "\n",
       "    .dataframe tbody tr th {\n",
       "        vertical-align: top;\n",
       "    }\n",
       "\n",
       "    .dataframe thead th {\n",
       "        text-align: right;\n",
       "    }\n",
       "</style>\n",
       "<table border=\"1\" class=\"dataframe\">\n",
       "  <thead>\n",
       "    <tr style=\"text-align: right;\">\n",
       "      <th></th>\n",
       "      <th>TN</th>\n",
       "      <th>FP</th>\n",
       "      <th>FN</th>\n",
       "      <th>TP</th>\n",
       "      <th>정확도</th>\n",
       "      <th>정밀도</th>\n",
       "      <th>재현율</th>\n",
       "      <th>F1</th>\n",
       "      <th>AUC</th>\n",
       "    </tr>\n",
       "    <tr>\n",
       "      <th>SMOTE 적용</th>\n",
       "      <th></th>\n",
       "      <th></th>\n",
       "      <th></th>\n",
       "      <th></th>\n",
       "      <th></th>\n",
       "      <th></th>\n",
       "      <th></th>\n",
       "      <th></th>\n",
       "      <th></th>\n",
       "    </tr>\n",
       "  </thead>\n",
       "  <tbody>\n",
       "    <tr>\n",
       "      <th>Logistic Regression</th>\n",
       "      <td>83768</td>\n",
       "      <td>1527</td>\n",
       "      <td>15</td>\n",
       "      <td>133</td>\n",
       "      <td>0.9820</td>\n",
       "      <td>0.0801</td>\n",
       "      <td>0.8986</td>\n",
       "      <td>0.1471</td>\n",
       "      <td>0.9802</td>\n",
       "    </tr>\n",
       "    <tr>\n",
       "      <th>LGBM</th>\n",
       "      <td>85284</td>\n",
       "      <td>11</td>\n",
       "      <td>32</td>\n",
       "      <td>116</td>\n",
       "      <td>0.9995</td>\n",
       "      <td>0.9134</td>\n",
       "      <td>0.7838</td>\n",
       "      <td>0.8436</td>\n",
       "      <td>0.9853</td>\n",
       "    </tr>\n",
       "    <tr>\n",
       "      <th>XGBoost</th>\n",
       "      <td>85258</td>\n",
       "      <td>37</td>\n",
       "      <td>30</td>\n",
       "      <td>118</td>\n",
       "      <td>0.9992</td>\n",
       "      <td>0.7613</td>\n",
       "      <td>0.7973</td>\n",
       "      <td>0.7789</td>\n",
       "      <td>0.9759</td>\n",
       "    </tr>\n",
       "  </tbody>\n",
       "</table>\n",
       "</div>"
      ],
      "text/plain": [
       "                        TN    FP  FN   TP     정확도     정밀도     재현율      F1  \\\n",
       "SMOTE 적용                                                                    \n",
       "Logistic Regression  83768  1527  15  133  0.9820  0.0801  0.8986  0.1471   \n",
       "LGBM                 85284    11  32  116  0.9995  0.9134  0.7838  0.8436   \n",
       "XGBoost              85258    37  30  118  0.9992  0.7613  0.7973  0.7789   \n",
       "\n",
       "                        AUC  \n",
       "SMOTE 적용                     \n",
       "Logistic Regression  0.9802  \n",
       "LGBM                 0.9853  \n",
       "XGBoost              0.9759  "
      ]
     },
     "execution_count": 68,
     "metadata": {},
     "output_type": "execute_result"
    }
   ],
   "source": [
    "dfs[4]"
   ]
  },
  {
   "cell_type": "markdown",
   "id": "1dddbbff",
   "metadata": {
    "id": "1dddbbff"
   },
   "source": [
    "모델별 변화량"
   ]
  },
  {
   "cell_type": "code",
   "execution_count": 69,
   "id": "2b42484a",
   "metadata": {
    "id": "2b42484a"
   },
   "outputs": [],
   "source": [
    "# 데이터테이블2 모델별로 전처리에 따른 변화\n",
    "lr_df = pd.DataFrame(lr_metric, index=stages)\n",
    "lgbm_df = pd.DataFrame(lgbm_metric, index=stages)\n",
    "xgb_df = pd.DataFrame(xgb_metric, index=stages)"
   ]
  },
  {
   "cell_type": "code",
   "execution_count": 70,
   "id": "31b06196",
   "metadata": {
    "id": "31b06196",
    "outputId": "07baf308-9cc6-44e0-ead5-549f2516db37"
   },
   "outputs": [
    {
     "data": {
      "text/html": [
       "<div>\n",
       "<style scoped>\n",
       "    .dataframe tbody tr th:only-of-type {\n",
       "        vertical-align: middle;\n",
       "    }\n",
       "\n",
       "    .dataframe tbody tr th {\n",
       "        vertical-align: top;\n",
       "    }\n",
       "\n",
       "    .dataframe thead th {\n",
       "        text-align: right;\n",
       "    }\n",
       "</style>\n",
       "<table border=\"1\" class=\"dataframe\">\n",
       "  <thead>\n",
       "    <tr style=\"text-align: right;\">\n",
       "      <th></th>\n",
       "      <th>TN</th>\n",
       "      <th>FP</th>\n",
       "      <th>FN</th>\n",
       "      <th>TP</th>\n",
       "      <th>정확도</th>\n",
       "      <th>정밀도</th>\n",
       "      <th>재현율</th>\n",
       "      <th>F1</th>\n",
       "      <th>AUC</th>\n",
       "    </tr>\n",
       "  </thead>\n",
       "  <tbody>\n",
       "    <tr>\n",
       "      <th>원본 데이터</th>\n",
       "      <td>85281</td>\n",
       "      <td>14</td>\n",
       "      <td>56</td>\n",
       "      <td>92</td>\n",
       "      <td>0.9992</td>\n",
       "      <td>0.8679</td>\n",
       "      <td>0.6216</td>\n",
       "      <td>0.7244</td>\n",
       "      <td>0.9699</td>\n",
       "    </tr>\n",
       "    <tr>\n",
       "      <th>로그 변환</th>\n",
       "      <td>85283</td>\n",
       "      <td>12</td>\n",
       "      <td>59</td>\n",
       "      <td>89</td>\n",
       "      <td>0.9992</td>\n",
       "      <td>0.8812</td>\n",
       "      <td>0.6014</td>\n",
       "      <td>0.7149</td>\n",
       "      <td>0.9723</td>\n",
       "    </tr>\n",
       "    <tr>\n",
       "      <th>전체데이터의 이상치 제거</th>\n",
       "      <td>85281</td>\n",
       "      <td>14</td>\n",
       "      <td>48</td>\n",
       "      <td>98</td>\n",
       "      <td>0.9993</td>\n",
       "      <td>0.8750</td>\n",
       "      <td>0.6712</td>\n",
       "      <td>0.7597</td>\n",
       "      <td>0.9741</td>\n",
       "    </tr>\n",
       "    <tr>\n",
       "      <th>훈련데이터의 이상치 제거</th>\n",
       "      <td>85282</td>\n",
       "      <td>13</td>\n",
       "      <td>59</td>\n",
       "      <td>89</td>\n",
       "      <td>0.9992</td>\n",
       "      <td>0.8725</td>\n",
       "      <td>0.6014</td>\n",
       "      <td>0.7120</td>\n",
       "      <td>0.9712</td>\n",
       "    </tr>\n",
       "    <tr>\n",
       "      <th>SMOTE 적용</th>\n",
       "      <td>83768</td>\n",
       "      <td>1527</td>\n",
       "      <td>15</td>\n",
       "      <td>133</td>\n",
       "      <td>0.9820</td>\n",
       "      <td>0.0801</td>\n",
       "      <td>0.8986</td>\n",
       "      <td>0.1471</td>\n",
       "      <td>0.9802</td>\n",
       "    </tr>\n",
       "    <tr>\n",
       "      <th>SMOTE 적용 2</th>\n",
       "      <td>84707</td>\n",
       "      <td>588</td>\n",
       "      <td>21</td>\n",
       "      <td>127</td>\n",
       "      <td>0.9929</td>\n",
       "      <td>0.1776</td>\n",
       "      <td>0.8581</td>\n",
       "      <td>0.2943</td>\n",
       "      <td>0.9812</td>\n",
       "    </tr>\n",
       "  </tbody>\n",
       "</table>\n",
       "</div>"
      ],
      "text/plain": [
       "                  TN    FP  FN   TP     정확도     정밀도     재현율      F1     AUC\n",
       "원본 데이터         85281    14  56   92  0.9992  0.8679  0.6216  0.7244  0.9699\n",
       "로그 변환          85283    12  59   89  0.9992  0.8812  0.6014  0.7149  0.9723\n",
       "전체데이터의 이상치 제거  85281    14  48   98  0.9993  0.8750  0.6712  0.7597  0.9741\n",
       "훈련데이터의 이상치 제거  85282    13  59   89  0.9992  0.8725  0.6014  0.7120  0.9712\n",
       "SMOTE 적용       83768  1527  15  133  0.9820  0.0801  0.8986  0.1471  0.9802\n",
       "SMOTE 적용 2     84707   588  21  127  0.9929  0.1776  0.8581  0.2943  0.9812"
      ]
     },
     "execution_count": 70,
     "metadata": {},
     "output_type": "execute_result"
    }
   ],
   "source": [
    "lr_df"
   ]
  },
  {
   "cell_type": "code",
   "execution_count": 71,
   "id": "a767b02e",
   "metadata": {
    "id": "a767b02e",
    "outputId": "e689f69e-e115-4762-e1a1-da3c51ca4e02"
   },
   "outputs": [
    {
     "data": {
      "text/html": [
       "<div>\n",
       "<style scoped>\n",
       "    .dataframe tbody tr th:only-of-type {\n",
       "        vertical-align: middle;\n",
       "    }\n",
       "\n",
       "    .dataframe tbody tr th {\n",
       "        vertical-align: top;\n",
       "    }\n",
       "\n",
       "    .dataframe thead th {\n",
       "        text-align: right;\n",
       "    }\n",
       "</style>\n",
       "<table border=\"1\" class=\"dataframe\">\n",
       "  <thead>\n",
       "    <tr style=\"text-align: right;\">\n",
       "      <th></th>\n",
       "      <th>TN</th>\n",
       "      <th>FP</th>\n",
       "      <th>FN</th>\n",
       "      <th>TP</th>\n",
       "      <th>정확도</th>\n",
       "      <th>정밀도</th>\n",
       "      <th>재현율</th>\n",
       "      <th>F1</th>\n",
       "      <th>AUC</th>\n",
       "    </tr>\n",
       "  </thead>\n",
       "  <tbody>\n",
       "    <tr>\n",
       "      <th>원본 데이터</th>\n",
       "      <td>85290</td>\n",
       "      <td>5</td>\n",
       "      <td>36</td>\n",
       "      <td>112</td>\n",
       "      <td>0.9995</td>\n",
       "      <td>0.9573</td>\n",
       "      <td>0.7568</td>\n",
       "      <td>0.8453</td>\n",
       "      <td>0.9790</td>\n",
       "    </tr>\n",
       "    <tr>\n",
       "      <th>로그 변환</th>\n",
       "      <td>85290</td>\n",
       "      <td>5</td>\n",
       "      <td>35</td>\n",
       "      <td>113</td>\n",
       "      <td>0.9995</td>\n",
       "      <td>0.9576</td>\n",
       "      <td>0.7635</td>\n",
       "      <td>0.8496</td>\n",
       "      <td>0.9796</td>\n",
       "    </tr>\n",
       "    <tr>\n",
       "      <th>전체데이터의 이상치 제거</th>\n",
       "      <td>85290</td>\n",
       "      <td>5</td>\n",
       "      <td>25</td>\n",
       "      <td>121</td>\n",
       "      <td>0.9996</td>\n",
       "      <td>0.9603</td>\n",
       "      <td>0.8288</td>\n",
       "      <td>0.8897</td>\n",
       "      <td>0.9780</td>\n",
       "    </tr>\n",
       "    <tr>\n",
       "      <th>훈련데이터의 이상치 제거</th>\n",
       "      <td>85291</td>\n",
       "      <td>4</td>\n",
       "      <td>38</td>\n",
       "      <td>110</td>\n",
       "      <td>0.9995</td>\n",
       "      <td>0.9649</td>\n",
       "      <td>0.7432</td>\n",
       "      <td>0.8397</td>\n",
       "      <td>0.9794</td>\n",
       "    </tr>\n",
       "    <tr>\n",
       "      <th>SMOTE 적용</th>\n",
       "      <td>85284</td>\n",
       "      <td>11</td>\n",
       "      <td>32</td>\n",
       "      <td>116</td>\n",
       "      <td>0.9995</td>\n",
       "      <td>0.9134</td>\n",
       "      <td>0.7838</td>\n",
       "      <td>0.8436</td>\n",
       "      <td>0.9853</td>\n",
       "    </tr>\n",
       "    <tr>\n",
       "      <th>SMOTE 적용 2</th>\n",
       "      <td>85283</td>\n",
       "      <td>12</td>\n",
       "      <td>31</td>\n",
       "      <td>117</td>\n",
       "      <td>0.9995</td>\n",
       "      <td>0.9070</td>\n",
       "      <td>0.7905</td>\n",
       "      <td>0.8448</td>\n",
       "      <td>0.9837</td>\n",
       "    </tr>\n",
       "  </tbody>\n",
       "</table>\n",
       "</div>"
      ],
      "text/plain": [
       "                  TN  FP  FN   TP     정확도     정밀도     재현율      F1     AUC\n",
       "원본 데이터         85290   5  36  112  0.9995  0.9573  0.7568  0.8453  0.9790\n",
       "로그 변환          85290   5  35  113  0.9995  0.9576  0.7635  0.8496  0.9796\n",
       "전체데이터의 이상치 제거  85290   5  25  121  0.9996  0.9603  0.8288  0.8897  0.9780\n",
       "훈련데이터의 이상치 제거  85291   4  38  110  0.9995  0.9649  0.7432  0.8397  0.9794\n",
       "SMOTE 적용       85284  11  32  116  0.9995  0.9134  0.7838  0.8436  0.9853\n",
       "SMOTE 적용 2     85283  12  31  117  0.9995  0.9070  0.7905  0.8448  0.9837"
      ]
     },
     "execution_count": 71,
     "metadata": {},
     "output_type": "execute_result"
    }
   ],
   "source": [
    "lgbm_df"
   ]
  },
  {
   "cell_type": "code",
   "execution_count": 72,
   "id": "a4235f31",
   "metadata": {
    "id": "a4235f31",
    "outputId": "26eebc60-81ca-4954-80a1-9fed7bd6d95b"
   },
   "outputs": [
    {
     "data": {
      "text/html": [
       "<div>\n",
       "<style scoped>\n",
       "    .dataframe tbody tr th:only-of-type {\n",
       "        vertical-align: middle;\n",
       "    }\n",
       "\n",
       "    .dataframe tbody tr th {\n",
       "        vertical-align: top;\n",
       "    }\n",
       "\n",
       "    .dataframe thead th {\n",
       "        text-align: right;\n",
       "    }\n",
       "</style>\n",
       "<table border=\"1\" class=\"dataframe\">\n",
       "  <thead>\n",
       "    <tr style=\"text-align: right;\">\n",
       "      <th></th>\n",
       "      <th>TN</th>\n",
       "      <th>FP</th>\n",
       "      <th>FN</th>\n",
       "      <th>TP</th>\n",
       "      <th>정확도</th>\n",
       "      <th>정밀도</th>\n",
       "      <th>재현율</th>\n",
       "      <th>F1</th>\n",
       "      <th>AUC</th>\n",
       "    </tr>\n",
       "  </thead>\n",
       "  <tbody>\n",
       "    <tr>\n",
       "      <th>원본 데이터</th>\n",
       "      <td>85289</td>\n",
       "      <td>6</td>\n",
       "      <td>39</td>\n",
       "      <td>109</td>\n",
       "      <td>0.9995</td>\n",
       "      <td>0.9478</td>\n",
       "      <td>0.7365</td>\n",
       "      <td>0.8289</td>\n",
       "      <td>0.9798</td>\n",
       "    </tr>\n",
       "    <tr>\n",
       "      <th>로그 변환</th>\n",
       "      <td>85289</td>\n",
       "      <td>6</td>\n",
       "      <td>39</td>\n",
       "      <td>109</td>\n",
       "      <td>0.9995</td>\n",
       "      <td>0.9478</td>\n",
       "      <td>0.7365</td>\n",
       "      <td>0.8289</td>\n",
       "      <td>0.9798</td>\n",
       "    </tr>\n",
       "    <tr>\n",
       "      <th>전체데이터의 이상치 제거</th>\n",
       "      <td>85290</td>\n",
       "      <td>5</td>\n",
       "      <td>28</td>\n",
       "      <td>118</td>\n",
       "      <td>0.9996</td>\n",
       "      <td>0.9593</td>\n",
       "      <td>0.8082</td>\n",
       "      <td>0.8773</td>\n",
       "      <td>0.9809</td>\n",
       "    </tr>\n",
       "    <tr>\n",
       "      <th>훈련데이터의 이상치 제거</th>\n",
       "      <td>85289</td>\n",
       "      <td>6</td>\n",
       "      <td>40</td>\n",
       "      <td>108</td>\n",
       "      <td>0.9995</td>\n",
       "      <td>0.9474</td>\n",
       "      <td>0.7297</td>\n",
       "      <td>0.8244</td>\n",
       "      <td>0.9803</td>\n",
       "    </tr>\n",
       "    <tr>\n",
       "      <th>SMOTE 적용</th>\n",
       "      <td>85258</td>\n",
       "      <td>37</td>\n",
       "      <td>30</td>\n",
       "      <td>118</td>\n",
       "      <td>0.9992</td>\n",
       "      <td>0.7613</td>\n",
       "      <td>0.7973</td>\n",
       "      <td>0.7789</td>\n",
       "      <td>0.9759</td>\n",
       "    </tr>\n",
       "    <tr>\n",
       "      <th>SMOTE 적용 2</th>\n",
       "      <td>85278</td>\n",
       "      <td>17</td>\n",
       "      <td>32</td>\n",
       "      <td>116</td>\n",
       "      <td>0.9994</td>\n",
       "      <td>0.8722</td>\n",
       "      <td>0.7838</td>\n",
       "      <td>0.8256</td>\n",
       "      <td>0.9777</td>\n",
       "    </tr>\n",
       "  </tbody>\n",
       "</table>\n",
       "</div>"
      ],
      "text/plain": [
       "                  TN  FP  FN   TP     정확도     정밀도     재현율      F1     AUC\n",
       "원본 데이터         85289   6  39  109  0.9995  0.9478  0.7365  0.8289  0.9798\n",
       "로그 변환          85289   6  39  109  0.9995  0.9478  0.7365  0.8289  0.9798\n",
       "전체데이터의 이상치 제거  85290   5  28  118  0.9996  0.9593  0.8082  0.8773  0.9809\n",
       "훈련데이터의 이상치 제거  85289   6  40  108  0.9995  0.9474  0.7297  0.8244  0.9803\n",
       "SMOTE 적용       85258  37  30  118  0.9992  0.7613  0.7973  0.7789  0.9759\n",
       "SMOTE 적용 2     85278  17  32  116  0.9994  0.8722  0.7838  0.8256  0.9777"
      ]
     },
     "execution_count": 72,
     "metadata": {},
     "output_type": "execute_result"
    }
   ],
   "source": [
    "xgb_df"
   ]
  },
  {
   "cell_type": "code",
   "execution_count": null,
   "id": "0b082765",
   "metadata": {
    "id": "0b082765"
   },
   "outputs": [],
   "source": []
  }
 ],
 "metadata": {
  "colab": {
   "provenance": []
  },
  "kernelspec": {
   "display_name": "Python 3",
   "language": "python",
   "name": "python3"
  },
  "language_info": {
   "codemirror_mode": {
    "name": "ipython",
    "version": 3
   },
   "file_extension": ".py",
   "mimetype": "text/x-python",
   "name": "python",
   "nbconvert_exporter": "python",
   "pygments_lexer": "ipython3",
   "version": "3.10.16"
  }
 },
 "nbformat": 4,
 "nbformat_minor": 5
}
